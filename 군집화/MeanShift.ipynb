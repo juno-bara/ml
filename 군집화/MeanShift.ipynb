{
 "cells": [
  {
   "cell_type": "markdown",
   "id": "10988059",
   "metadata": {},
   "source": [
    "### sklearn.cluster.MeanShift\n",
    "\n",
    "_class_ sklearn.cluster.MeanShift(_*_, _bandwidth=None_, _seeds=None_, _bin_seeding=False_, _min_bin_freq=1_, _cluster_all=True_, _n_jobs=None_, _max_iter=300_)[[source]](https://github.com/scikit-learn/scikit-learn/blob/8c9c1f27b/sklearn/cluster/_mean_shift.py#L263)[¶](https://scikit-learn.org/stable/modules/generated/sklearn.cluster.MeanShift.html#sklearn.cluster.MeanShift \"Permalink to this definition\")\n",
    "\n",
    "\n",
    "Parameters:\n",
    "\n",
    "**bandwidth**float, default=None\n",
    "\n",
    "Bandwidth used in the RBF kernel.\n",
    "\n",
    "If not given, the bandwidth is estimated using sklearn.cluster.estimate_bandwidth; see the documentation for that function for hints on scalability (see also the Notes, below).\n",
    "\n",
    "**seeds**array-like of shape (n_samples, n_features), default=None\n",
    "\n",
    "Seeds used to initialize kernels. If not set, the seeds are calculated by clustering.get_bin_seeds with bandwidth as the grid size and default values for other parameters.\n",
    "\n",
    "**bin_seeding**bool, default=False\n",
    "\n",
    "If true, initial kernel locations are not locations of all points, but rather the location of the discretized version of points, where points are binned onto a grid whose coarseness corresponds to the bandwidth. Setting this option to True will speed up the algorithm because fewer seeds will be initialized. The default value is False. Ignored if seeds argument is not None.\n",
    "\n",
    "**min_bin_freq**int, default=1\n",
    "\n",
    "To speed up the algorithm, accept only those bins with at least min_bin_freq points as seeds.\n",
    "\n",
    "**cluster_all**bool, default=True\n",
    "\n",
    "If true, then all points are clustered, even those orphans that are not within any kernel. Orphans are assigned to the nearest kernel. If false, then orphans are given cluster label -1.\n",
    "\n",
    "**n_jobs**int, default=None\n",
    "\n",
    "The number of jobs to use for the computation. The following tasks benefit from the parallelization:\n",
    "\n",
    "-   The search of nearest neighbors for bandwidth estimation and label assignments. See the details in the docstring of the  `NearestNeighbors`  class.\n",
    "    \n",
    "-   Hill-climbing optimization for all seeds.\n",
    "    \n",
    "\n",
    "See  [Glossary](https://scikit-learn.org/stable/glossary.html#term-n_jobs)  for more details.\n",
    "\n",
    "`None`  means 1 unless in a  [`joblib.parallel_backend`](https://joblib.readthedocs.io/en/latest/parallel.html#joblib.parallel_backend \"(in joblib v1.3.0.dev0)\")  context.  `-1`  means using all processors. See  [Glossary](https://scikit-learn.org/stable/glossary.html#term-n_jobs)  for more details.\n",
    "\n",
    "**max_iter**int, default=300\n",
    "\n",
    "Maximum number of iterations, per seed point before the clustering operation terminates (for that seed point), if has not converged yet.\n",
    "\n",
    "New in version 0.22.\n",
    "\n",
    "Attributes:\n",
    "\n",
    "**cluster_centers_**ndarray of shape (n_clusters, n_features)\n",
    "\n",
    "Coordinates of cluster centers.\n",
    "\n",
    "**labels_**ndarray of shape (n_samples,)\n",
    "\n",
    "Labels of each point.\n",
    "\n",
    "**n_iter_**int\n",
    "\n",
    "Maximum number of iterations performed on each seed.\n",
    "\n",
    "New in version 0.22.\n",
    "\n",
    "**n_features_in_**int\n",
    "\n",
    "Number of features seen during  [fit](https://scikit-learn.org/stable/glossary.html#term-fit).\n",
    "\n",
    "New in version 0.24.\n",
    "\n",
    "**feature_names_in_**ndarray of shape (`n_features_in_`,)\n",
    "\n",
    "Names of features seen during  [fit](https://scikit-learn.org/stable/glossary.html#term-fit). Defined only when  `X`  has feature names that are all strings."
   ]
  },
  {
   "cell_type": "code",
   "execution_count": 2,
   "id": "d036fd8a",
   "metadata": {
    "ExecuteTime": {
     "end_time": "2023-02-15T01:19:25.799809Z",
     "start_time": "2023-02-15T01:19:24.668219Z"
    }
   },
   "outputs": [
    {
     "data": {
      "text/plain": [
       "array([0, 1, 2, 3, 4, 5], dtype=int64)"
      ]
     },
     "execution_count": 2,
     "metadata": {},
     "output_type": "execute_result"
    }
   ],
   "source": [
    "import numpy as np\n",
    "from sklearn.datasets import make_blobs\n",
    "from sklearn.cluster import MeanShift\n",
    "\n",
    "x,y = make_blobs(n_samples=200, n_features=2, centers=3, cluster_std=0.7, random_state=0)\n",
    "\n",
    "mean_sh = MeanShift(bandwidth=0.8)\n",
    "cluster_label = mean_sh.fit_predict(x)\n",
    "np.unique(cluster_label)"
   ]
  },
  {
   "cell_type": "code",
   "execution_count": 3,
   "id": "befdd2e7",
   "metadata": {
    "ExecuteTime": {
     "end_time": "2023-02-15T01:19:36.467295Z",
     "start_time": "2023-02-15T01:19:35.743965Z"
    }
   },
   "outputs": [
    {
     "data": {
      "text/plain": [
       "array([0, 1, 2], dtype=int64)"
      ]
     },
     "execution_count": 3,
     "metadata": {},
     "output_type": "execute_result"
    }
   ],
   "source": [
    "mean_sh = MeanShift(bandwidth=1)\n",
    "cluster_label = mean_sh.fit_predict(x)\n",
    "np.unique(cluster_label)"
   ]
  },
  {
   "cell_type": "code",
   "execution_count": 4,
   "id": "8a02c949",
   "metadata": {
    "ExecuteTime": {
     "end_time": "2023-02-15T01:20:43.734225Z",
     "start_time": "2023-02-15T01:20:43.718211Z"
    }
   },
   "outputs": [
    {
     "name": "stdout",
     "output_type": "stream",
     "text": [
      "1.8158484154517098\n"
     ]
    }
   ],
   "source": [
    "from sklearn.cluster import estimate_bandwidth\n",
    "est_bandwi = estimate_bandwidth(x)\n",
    "print(est_bandwi)"
   ]
  },
  {
   "cell_type": "code",
   "execution_count": 5,
   "id": "43ce8754",
   "metadata": {
    "ExecuteTime": {
     "end_time": "2023-02-15T01:23:33.174636Z",
     "start_time": "2023-02-15T01:23:32.155569Z"
    }
   },
   "outputs": [
    {
     "name": "stdout",
     "output_type": "stream",
     "text": [
      "[0 1 2]\n"
     ]
    }
   ],
   "source": [
    "import pandas as pd\n",
    "\n",
    "cluster_df = pd.DataFrame(data = x, columns=[\"ftr1\", \"ftr2\"])\n",
    "cluster_df[\"target\"] = y \n",
    "\n",
    "best_bandwi = estimate_bandwidth(x)\n",
    "\n",
    "mean_sh_best = MeanShift(bandwidth=best_bandwi)\n",
    "cluster_label_best = mean_sh_best.fit_predict(x)\n",
    "print(np.unique(cluster_label_best))"
   ]
  },
  {
   "cell_type": "code",
   "execution_count": null,
   "id": "0358a14f",
   "metadata": {},
   "outputs": [],
   "source": []
  }
 ],
 "metadata": {
  "kernelspec": {
   "display_name": "Python 3 (ipykernel)",
   "language": "python",
   "name": "python3"
  },
  "language_info": {
   "codemirror_mode": {
    "name": "ipython",
    "version": 3
   },
   "file_extension": ".py",
   "mimetype": "text/x-python",
   "name": "python",
   "nbconvert_exporter": "python",
   "pygments_lexer": "ipython3",
   "version": "3.11.1"
  },
  "toc": {
   "base_numbering": 1,
   "nav_menu": {},
   "number_sections": true,
   "sideBar": true,
   "skip_h1_title": false,
   "title_cell": "Table of Contents",
   "title_sidebar": "Contents",
   "toc_cell": false,
   "toc_position": {},
   "toc_section_display": true,
   "toc_window_display": false
  },
  "varInspector": {
   "cols": {
    "lenName": 16,
    "lenType": 16,
    "lenVar": 40
   },
   "kernels_config": {
    "python": {
     "delete_cmd_postfix": "",
     "delete_cmd_prefix": "del ",
     "library": "var_list.py",
     "varRefreshCmd": "print(var_dic_list())"
    },
    "r": {
     "delete_cmd_postfix": ") ",
     "delete_cmd_prefix": "rm(",
     "library": "var_list.r",
     "varRefreshCmd": "cat(var_dic_list()) "
    }
   },
   "types_to_exclude": [
    "module",
    "function",
    "builtin_function_or_method",
    "instance",
    "_Feature"
   ],
   "window_display": false
  }
 },
 "nbformat": 4,
 "nbformat_minor": 5
}

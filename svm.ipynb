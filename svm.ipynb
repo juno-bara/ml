{
 "cells": [
  {
   "cell_type": "markdown",
   "id": "aa687d0a",
   "metadata": {},
   "source": [
    "### sklearn.svm.SVC\n",
    "\n",
    "* _class_ sklearn.svm.SVC(_*_, _C=1.0_, _kernel='rbf'_, _degree=3_, _gamma='scale'_, _coef0=0.0_, _shrinking=True_, _probability=False_, _tol=0.001_, _cache_size=200_, _class_weight=None_, _verbose=False_, _max_iter=-1_, _decision_function_shape='ovr'_, _break_ties=False_, _random_state=None_)[[source]](https://github.com/scikit-learn/scikit-learn/blob/f3f51f9b6/sklearn/svm/_classes.py#L525)[¶](https://scikit-learn.org/1.1/modules/generated/sklearn.svm.SVC.html?highlight=svm+svc#sklearn.svm.SVC \"Permalink to this definition\")\n",
    "\n",
    "Parameters:\n",
    "\n",
    "**C**float, default=1.0\n",
    "\n",
    "Regularization parameter. The strength of the regularization is inversely proportional to C. Must be strictly positive. The penalty is a squared l2 penalty.\n",
    "\n",
    "**kernel**{‘linear’, ‘poly’, ‘rbf’, ‘sigmoid’, ‘precomputed’} or callable, default=’rbf’\n",
    "\n",
    "Specifies the kernel type to be used in the algorithm. If none is given, ‘rbf’ will be used. If a callable is given it is used to pre-compute the kernel matrix from data matrices; that matrix should be an array of shape  `(n_samples,  n_samples)`.\n",
    "\n",
    "**degree**int, default=3\n",
    "\n",
    "Degree of the polynomial kernel function (‘poly’). Ignored by all other kernels.\n",
    "\n",
    "**gamma**{‘scale’, ‘auto’} or float, default=’scale’\n",
    "\n",
    "Kernel coefficient for ‘rbf’, ‘poly’ and ‘sigmoid’.\n",
    "\n",
    "-   if  `gamma='scale'`  (default) is passed then it uses 1 / (n_features * X.var()) as value of gamma,\n",
    "    \n",
    "-   if ‘auto’, uses 1 / n_features.\n",
    "    \n",
    "\n",
    "Changed in version 0.22: The default value of  `gamma`  changed from ‘auto’ to ‘scale’.\n",
    "\n",
    "**coef0**float, default=0.0\n",
    "\n",
    "Independent term in kernel function. It is only significant in ‘poly’ and ‘sigmoid’.\n",
    "\n",
    "**shrinking**bool, default=True\n",
    "\n",
    "Whether to use the shrinking heuristic. See the  [User Guide](https://scikit-learn.org/1.1/modules/svm.html#shrinking-svm).\n",
    "\n",
    "**probability**bool, default=False\n",
    "\n",
    "Whether to enable probability estimates. This must be enabled prior to calling  `fit`, will slow down that method as it internally uses 5-fold cross-validation, and  `predict_proba`  may be inconsistent with  `predict`. Read more in the  [User Guide](https://scikit-learn.org/1.1/modules/svm.html#scores-probabilities).\n",
    "\n",
    "**tol**float, default=1e-3\n",
    "\n",
    "Tolerance for stopping criterion.\n",
    "\n",
    "**cache_size**float, default=200\n",
    "\n",
    "Specify the size of the kernel cache (in MB).\n",
    "\n",
    "**class_weight**dict or ‘balanced’, default=None\n",
    "\n",
    "Set the parameter C of class i to class_weight[i]*C for SVC. If not given, all classes are supposed to have weight one. The “balanced” mode uses the values of y to automatically adjust weights inversely proportional to class frequencies in the input data as  `n_samples  /  (n_classes  *  np.bincount(y))`.\n",
    "\n",
    "**verbose**bool, default=False\n",
    "\n",
    "Enable verbose output. Note that this setting takes advantage of a per-process runtime setting in libsvm that, if enabled, may not work properly in a multithreaded context.\n",
    "\n",
    "**max_iter**int, default=-1\n",
    "\n",
    "Hard limit on iterations within solver, or -1 for no limit.\n",
    "\n",
    "**decision_function_shape**{‘ovo’, ‘ovr’}, default=’ovr’\n",
    "\n",
    "Whether to return a one-vs-rest (‘ovr’) decision function of shape (n_samples, n_classes) as all other classifiers, or the original one-vs-one (‘ovo’) decision function of libsvm which has shape (n_samples, n_classes * (n_classes - 1) / 2). However, note that internally, one-vs-one (‘ovo’) is always used as a multi-class strategy to train models; an ovr matrix is only constructed from the ovo matrix. The parameter is ignored for binary classification.\n",
    "\n",
    "Changed in version 0.19: decision_function_shape is ‘ovr’ by default.\n",
    "\n",
    "New in version 0.17: _decision_function_shape=’ovr’_  is recommended.\n",
    "\n",
    "Changed in version 0.17: Deprecated  _decision_function_shape=’ovo’ and None_.\n",
    "\n",
    "**break_ties**bool, default=False\n",
    "\n",
    "If true,  `decision_function_shape='ovr'`, and number of classes > 2,  [predict](https://scikit-learn.org/1.1/glossary.html#term-predict)  will break ties according to the confidence values of  [decision_function](https://scikit-learn.org/1.1/glossary.html#term-decision_function); otherwise the first class among the tied classes is returned. Please note that breaking ties comes at a relatively high computational cost compared to a simple predict.\n",
    "\n",
    "New in version 0.22.\n",
    "\n",
    "**random_state**int, RandomState instance or None, default=None\n",
    "\n",
    "Controls the pseudo random number generation for shuffling the data for probability estimates. Ignored when  `probability`  is False. Pass an int for reproducible output across multiple function calls. See  [Glossary](https://scikit-learn.org/1.1/glossary.html#term-random_state).\n",
    "\n",
    "Attributes:\n",
    "\n",
    "**class_weight_**ndarray of shape (n_classes,)\n",
    "\n",
    "Multipliers of parameter C for each class. Computed based on the  `class_weight`  parameter.\n",
    "\n",
    "**classes_**ndarray of shape (n_classes,)\n",
    "\n",
    "The classes labels.\n",
    "\n",
    "[`coef_`](https://scikit-learn.org/1.1/modules/generated/sklearn.svm.SVC.html?highlight=svm+svc#sklearn.svm.SVC.coef_ \"sklearn.svm.SVC.coef_\")ndarray of shape (n_classes * (n_classes - 1) / 2, n_features)\n",
    "\n",
    "Weights assigned to the features when  `kernel=\"linear\"`.\n",
    "\n",
    "**dual_coef_**ndarray of shape (n_classes -1, n_SV)\n",
    "\n",
    "Dual coefficients of the support vector in the decision function (see  [Mathematical formulation](https://scikit-learn.org/1.1/modules/sgd.html#sgd-mathematical-formulation)), multiplied by their targets. For multiclass, coefficient for all 1-vs-1 classifiers. The layout of the coefficients in the multiclass case is somewhat non-trivial. See the  [multi-class section of the User Guide](https://scikit-learn.org/1.1/modules/svm.html#svm-multi-class)  for details.\n",
    "\n",
    "**fit_status_**int\n",
    "\n",
    "0 if correctly fitted, 1 otherwise (will raise warning)\n",
    "\n",
    "**intercept_**ndarray of shape (n_classes * (n_classes - 1) / 2,)\n",
    "\n",
    "Constants in decision function.\n",
    "\n",
    "**n_features_in_**int\n",
    "\n",
    "Number of features seen during  [fit](https://scikit-learn.org/1.1/glossary.html#term-fit).\n",
    "\n",
    "New in version 0.24.\n",
    "\n",
    "**feature_names_in_**ndarray of shape (`n_features_in_`,)\n",
    "\n",
    "Names of features seen during  [fit](https://scikit-learn.org/1.1/glossary.html#term-fit). Defined only when  `X`  has feature names that are all strings.\n",
    "\n",
    "New in version 1.0.\n",
    "\n",
    "**n_iter_**ndarray of shape (n_classes * (n_classes - 1) // 2,)\n",
    "\n",
    "Number of iterations run by the optimization routine to fit the model. The shape of this attribute depends on the number of models optimized which in turn depends on the number of classes.\n",
    "\n",
    "New in version 1.1.\n",
    "\n",
    "**support_**ndarray of shape (n_SV)\n",
    "\n",
    "Indices of support vectors.\n",
    "\n",
    "**support_vectors_**ndarray of shape (n_SV, n_features)\n",
    "\n",
    "Support vectors.\n",
    "\n",
    "[`n_support_`](https://scikit-learn.org/1.1/modules/generated/sklearn.svm.SVC.html?highlight=svm+svc#sklearn.svm.SVC.n_support_ \"sklearn.svm.SVC.n_support_\")ndarray of shape (n_classes,), dtype=int32\n",
    "\n",
    "Number of support vectors for each class.\n",
    "\n",
    "[`probA_`](https://scikit-learn.org/1.1/modules/generated/sklearn.svm.SVC.html?highlight=svm+svc#sklearn.svm.SVC.probA_ \"sklearn.svm.SVC.probA_\")ndarray of shape (n_classes * (n_classes - 1) / 2)\n",
    "\n",
    "Parameter learned in Platt scaling when  `probability=True`.\n",
    "\n",
    "[`probB_`](https://scikit-learn.org/1.1/modules/generated/sklearn.svm.SVC.html?highlight=svm+svc#sklearn.svm.SVC.probB_ \"sklearn.svm.SVC.probB_\")ndarray of shape (n_classes * (n_classes - 1) / 2)\n",
    "\n",
    "Parameter learned in Platt scaling when  `probability=True`.\n",
    "\n",
    "**shape_fit_**tuple of int of shape (n_dimensions_of_X,)\n",
    "\n",
    "Array dimensions of training vector  `X`."
   ]
  },
  {
   "cell_type": "code",
   "execution_count": 30,
   "id": "7ace75c2",
   "metadata": {
    "ExecuteTime": {
     "end_time": "2023-02-02T05:31:46.973937Z",
     "start_time": "2023-02-02T05:31:46.953939Z"
    }
   },
   "outputs": [
    {
     "data": {
      "text/plain": [
       "0.96"
      ]
     },
     "execution_count": 30,
     "metadata": {},
     "output_type": "execute_result"
    }
   ],
   "source": [
    "from sklearn.datasets import load_iris\n",
    "from sklearn.model_selection import train_test_split\n",
    "from sklearn import svm\n",
    "from sklearn.metrics import accuracy_score\n",
    "\n",
    "iris = load_iris()\n",
    "feature= iris.data\n",
    "label = iris.target\n",
    "\n",
    "x_train, x_test, y_train, y_test = train_test_split(feature,label,test_size=0.5, random_state=156)\n",
    "\n",
    "svc_clf = svm.SVC(gamma=0.001, C=100.)\n",
    "svc_clf.fit(x_train,y_train)\n",
    "svc_pred = svc_clf.predict(x_test)\n",
    "svc_accuracy = accuracy_score(y_test, svc_pred)\n",
    "svc_accuracy\n",
    "\n",
    "\n"
   ]
  },
  {
   "cell_type": "code",
   "execution_count": 20,
   "id": "905928f6",
   "metadata": {
    "ExecuteTime": {
     "end_time": "2023-02-02T05:23:21.408286Z",
     "start_time": "2023-02-02T05:23:21.396095Z"
    }
   },
   "outputs": [],
   "source": [
    "import pandas as pd\n",
    "\n",
    "\n",
    "feature_name_df = pd.read_csv(\"./datasets/human_activity/features.txt\", sep=\"\\s+\",header=None,\n",
    "           names=[\"column_index\", 'column_name'])"
   ]
  },
  {
   "cell_type": "code",
   "execution_count": 27,
   "id": "b0026f8d",
   "metadata": {
    "ExecuteTime": {
     "end_time": "2023-02-02T05:28:42.558373Z",
     "start_time": "2023-02-02T05:28:42.536999Z"
    }
   },
   "outputs": [
    {
     "name": "stdout",
     "output_type": "stream",
     "text": [
      "column_index    42\n",
      "dtype: int64\n"
     ]
    }
   ],
   "source": [
    "feature_dup_df = feature_name_df.groupby(\"column_name\").count()\n",
    "print(feature_dup_df[feature_dup_df[\"column_index\"]>1].count())\n",
    "feature_dup_df[feature_dup_df[\"column_index\"]>1].head()\n",
    "\n",
    "\n",
    "def get_new_feature_name_df(old_feature_name_df):\n",
    "    #column_name으로 중복된 컬럼명에 대해서는 중복 차수 부여, col1, col1과 같이 2개의 중복 컬럼이 있을 경우 1, 2 \n",
    "    feature_dup_df = pd.DataFrame(data=old_feature_name_df.groupby('column_name').cumcount(), columns=['dup_cnt'])\n",
    "    # feature_dup_df의 index인 column_name을 reset_index()를 이용하여 컬럼으로 변환. \n",
    "    feature_dup_df = feature_dup_df.reset_index()\n",
    "    # 인자로 받은 features_txt의 컬럼명 DataFrame과 feature_dup_df를 조인. \n",
    "    new_feature_name_df = pd.merge(old_feature_name_df.reset_index(), feature_dup_df, how='outer')\n",
    "    # 새로운 컬럼명은 앞에 중복 차수를 접미어로 결합. \n",
    "    new_feature_name_df['column_name'] = new_feature_name_df[['column_name', 'dup_cnt']].apply(lambda x : x[0]+'_'+str(x[1]) \n",
    "                                                                                           if x[1] >0 else x[0] ,  axis=1)\n",
    "    new_feature_name_df = new_feature_name_df.drop(['index'], axis=1)\n",
    "    return new_feature_name_df\n",
    "\n",
    "def get_human_dataset( ):\n",
    "    \n",
    "    # 각 데이터 파일들은 공백으로 분리되어 있으므로 read_csv에서 공백 문자를 sep으로 할당.\n",
    "    feature_name_df = pd.read_csv('./datasets/human_activity/features.txt',sep='\\s+',\n",
    "                        header=None,names=['column_index','column_name'])\n",
    "    \n",
    "    # 중복된 feature명을 새롭게 수정하는 get_new_feature_name_df()를 이용하여 새로운 feature명 DataFrame생성. \n",
    "    new_feature_name_df = get_new_feature_name_df(feature_name_df)\n",
    "    \n",
    "    # DataFrame에 피처명을 컬럼으로 부여하기 위해 리스트 객체로 다시 변환\n",
    "    feature_name = new_feature_name_df.iloc[:, 1].values.tolist()\n",
    "    \n",
    "    # 학습 피처 데이터 셋과 테스트 피처 데이터을 DataFrame으로 로딩. 컬럼명은 feature_name 적용\n",
    "    X_train = pd.read_csv('./datasets/human_activity/train/X_train.txt',sep='\\s+', names=feature_name )\n",
    "    X_test = pd.read_csv('./datasets/human_activity/test/X_test.txt',sep='\\s+', names=feature_name)\n",
    "    \n",
    "    # 학습 레이블과 테스트 레이블 데이터을 DataFrame으로 로딩하고 컬럼명은 action으로 부여\n",
    "    y_train = pd.read_csv('./datasets/human_activity/train/y_train.txt',sep='\\s+',header=None,names=['action'])\n",
    "    y_test = pd.read_csv('./datasets/human_activity/test/y_test.txt',sep='\\s+',header=None,names=['action'])\n",
    "    \n",
    "    # 로드된 학습/테스트용 DataFrame을 모두 반환 \n",
    "    return X_train, X_test, y_train, y_test\n"
   ]
  },
  {
   "cell_type": "code",
   "execution_count": 28,
   "id": "c3b29cbb",
   "metadata": {
    "ExecuteTime": {
     "end_time": "2023-02-02T05:28:47.228507Z",
     "start_time": "2023-02-02T05:28:43.461535Z"
    }
   },
   "outputs": [],
   "source": [
    "XX_train, XX_test, yy_train, yy_test = get_human_dataset( )"
   ]
  },
  {
   "cell_type": "code",
   "execution_count": 29,
   "id": "178f2c3a",
   "metadata": {
    "ExecuteTime": {
     "end_time": "2023-02-02T05:28:50.580409Z",
     "start_time": "2023-02-02T05:28:48.409054Z"
    }
   },
   "outputs": [
    {
     "name": "stderr",
     "output_type": "stream",
     "text": [
      "C:\\Users\\juno\\AppData\\Local\\Programs\\Python\\Python311\\Lib\\site-packages\\sklearn\\utils\\validation.py:1143: DataConversionWarning: A column-vector y was passed when a 1d array was expected. Please change the shape of y to (n_samples, ), for example using ravel().\n",
      "  y = column_or_1d(y, warn=True)\n"
     ]
    },
    {
     "data": {
      "text/plain": [
       "0.9616559212758737"
      ]
     },
     "execution_count": 29,
     "metadata": {},
     "output_type": "execute_result"
    }
   ],
   "source": [
    "svc_clf.fit(XX_train, yy_train)\n",
    "h_svc_pred = svc_clf.predict(XX_test)\n",
    "h_svc_accuracy = accuracy_score(yy_test,h_svc_pred)\n",
    "h_svc_accuracy"
   ]
  },
  {
   "cell_type": "code",
   "execution_count": 54,
   "id": "a73f1e72",
   "metadata": {
    "ExecuteTime": {
     "end_time": "2023-02-02T06:13:25.396143Z",
     "start_time": "2023-02-02T06:11:45.405877Z"
    }
   },
   "outputs": [
    {
     "name": "stdout",
     "output_type": "stream",
     "text": [
      "Fitting 5 folds for each of 7 candidates, totalling 35 fits\n",
      "[CV] END ........................................max_depth=6; total time=   1.6s\n",
      "[CV] END ........................................max_depth=6; total time=   1.6s\n",
      "[CV] END ........................................max_depth=6; total time=   1.5s\n",
      "[CV] END ........................................max_depth=6; total time=   1.5s\n",
      "[CV] END ........................................max_depth=6; total time=   1.5s\n",
      "[CV] END ........................................max_depth=8; total time=   2.0s\n",
      "[CV] END ........................................max_depth=8; total time=   1.9s\n",
      "[CV] END ........................................max_depth=8; total time=   1.9s\n",
      "[CV] END ........................................max_depth=8; total time=   1.9s\n",
      "[CV] END ........................................max_depth=8; total time=   2.1s\n",
      "[CV] END .......................................max_depth=10; total time=   2.4s\n",
      "[CV] END .......................................max_depth=10; total time=   2.2s\n",
      "[CV] END .......................................max_depth=10; total time=   2.2s\n",
      "[CV] END .......................................max_depth=10; total time=   2.2s\n",
      "[CV] END .......................................max_depth=10; total time=   2.3s\n",
      "[CV] END .......................................max_depth=12; total time=   2.9s\n",
      "[CV] END .......................................max_depth=12; total time=   2.9s\n",
      "[CV] END .......................................max_depth=12; total time=   2.8s\n",
      "[CV] END .......................................max_depth=12; total time=   2.8s\n",
      "[CV] END .......................................max_depth=12; total time=   2.9s\n",
      "[CV] END .......................................max_depth=16; total time=   3.3s\n",
      "[CV] END .......................................max_depth=16; total time=   2.7s\n",
      "[CV] END .......................................max_depth=16; total time=   3.1s\n",
      "[CV] END .......................................max_depth=16; total time=   3.9s\n",
      "[CV] END .......................................max_depth=16; total time=   3.8s\n",
      "[CV] END .......................................max_depth=20; total time=   4.0s\n",
      "[CV] END .......................................max_depth=20; total time=   3.0s\n",
      "[CV] END .......................................max_depth=20; total time=   3.0s\n",
      "[CV] END .......................................max_depth=20; total time=   3.0s\n",
      "[CV] END .......................................max_depth=20; total time=   3.6s\n",
      "[CV] END .......................................max_depth=24; total time=   3.6s\n",
      "[CV] END .......................................max_depth=24; total time=   2.7s\n",
      "[CV] END .......................................max_depth=24; total time=   3.0s\n",
      "[CV] END .......................................max_depth=24; total time=   2.8s\n",
      "[CV] END .......................................max_depth=24; total time=   3.4s\n"
     ]
    }
   ],
   "source": [
    "from sklearn.model_selection import GridSearchCV\n",
    "from sklearn.tree import DecisionTreeClassifier\n",
    "\n",
    "params = {\"max_depth\" : [6,8,10,12,16,20,24]}\n",
    "\n",
    "dt_clf = DecisionTreeClassifier(random_state=156)\n",
    "grid_cv = GridSearchCV(dt_clf, param_grid=params,scoring=\"accuracy\", cv=5,verbose=2)\n",
    "grid_cv.fit(XX_train,yy_train)\n",
    "grid_cv_pred = grid_cv.predict(XX_test)\n",
    "\n"
   ]
  },
  {
   "cell_type": "code",
   "execution_count": 53,
   "id": "b9e17a09",
   "metadata": {
    "ExecuteTime": {
     "end_time": "2023-02-02T06:10:16.452850Z",
     "start_time": "2023-02-02T06:10:16.445250Z"
    }
   },
   "outputs": [
    {
     "data": {
      "text/html": [
       "<style>#sk-container-id-1 {color: black;background-color: white;}#sk-container-id-1 pre{padding: 0;}#sk-container-id-1 div.sk-toggleable {background-color: white;}#sk-container-id-1 label.sk-toggleable__label {cursor: pointer;display: block;width: 100%;margin-bottom: 0;padding: 0.3em;box-sizing: border-box;text-align: center;}#sk-container-id-1 label.sk-toggleable__label-arrow:before {content: \"▸\";float: left;margin-right: 0.25em;color: #696969;}#sk-container-id-1 label.sk-toggleable__label-arrow:hover:before {color: black;}#sk-container-id-1 div.sk-estimator:hover label.sk-toggleable__label-arrow:before {color: black;}#sk-container-id-1 div.sk-toggleable__content {max-height: 0;max-width: 0;overflow: hidden;text-align: left;background-color: #f0f8ff;}#sk-container-id-1 div.sk-toggleable__content pre {margin: 0.2em;color: black;border-radius: 0.25em;background-color: #f0f8ff;}#sk-container-id-1 input.sk-toggleable__control:checked~div.sk-toggleable__content {max-height: 200px;max-width: 100%;overflow: auto;}#sk-container-id-1 input.sk-toggleable__control:checked~label.sk-toggleable__label-arrow:before {content: \"▾\";}#sk-container-id-1 div.sk-estimator input.sk-toggleable__control:checked~label.sk-toggleable__label {background-color: #d4ebff;}#sk-container-id-1 div.sk-label input.sk-toggleable__control:checked~label.sk-toggleable__label {background-color: #d4ebff;}#sk-container-id-1 input.sk-hidden--visually {border: 0;clip: rect(1px 1px 1px 1px);clip: rect(1px, 1px, 1px, 1px);height: 1px;margin: -1px;overflow: hidden;padding: 0;position: absolute;width: 1px;}#sk-container-id-1 div.sk-estimator {font-family: monospace;background-color: #f0f8ff;border: 1px dotted black;border-radius: 0.25em;box-sizing: border-box;margin-bottom: 0.5em;}#sk-container-id-1 div.sk-estimator:hover {background-color: #d4ebff;}#sk-container-id-1 div.sk-parallel-item::after {content: \"\";width: 100%;border-bottom: 1px solid gray;flex-grow: 1;}#sk-container-id-1 div.sk-label:hover label.sk-toggleable__label {background-color: #d4ebff;}#sk-container-id-1 div.sk-serial::before {content: \"\";position: absolute;border-left: 1px solid gray;box-sizing: border-box;top: 0;bottom: 0;left: 50%;z-index: 0;}#sk-container-id-1 div.sk-serial {display: flex;flex-direction: column;align-items: center;background-color: white;padding-right: 0.2em;padding-left: 0.2em;position: relative;}#sk-container-id-1 div.sk-item {position: relative;z-index: 1;}#sk-container-id-1 div.sk-parallel {display: flex;align-items: stretch;justify-content: center;background-color: white;position: relative;}#sk-container-id-1 div.sk-item::before, #sk-container-id-1 div.sk-parallel-item::before {content: \"\";position: absolute;border-left: 1px solid gray;box-sizing: border-box;top: 0;bottom: 0;left: 50%;z-index: -1;}#sk-container-id-1 div.sk-parallel-item {display: flex;flex-direction: column;z-index: 1;position: relative;background-color: white;}#sk-container-id-1 div.sk-parallel-item:first-child::after {align-self: flex-end;width: 50%;}#sk-container-id-1 div.sk-parallel-item:last-child::after {align-self: flex-start;width: 50%;}#sk-container-id-1 div.sk-parallel-item:only-child::after {width: 0;}#sk-container-id-1 div.sk-dashed-wrapped {border: 1px dashed gray;margin: 0 0.4em 0.5em 0.4em;box-sizing: border-box;padding-bottom: 0.4em;background-color: white;}#sk-container-id-1 div.sk-label label {font-family: monospace;font-weight: bold;display: inline-block;line-height: 1.2em;}#sk-container-id-1 div.sk-label-container {text-align: center;}#sk-container-id-1 div.sk-container {/* jupyter's `normalize.less` sets `[hidden] { display: none; }` but bootstrap.min.css set `[hidden] { display: none !important; }` so we also need the `!important` here to be able to override the default hidden behavior on the sphinx rendered scikit-learn.org. See: https://github.com/scikit-learn/scikit-learn/issues/21755 */display: inline-block !important;position: relative;}#sk-container-id-1 div.sk-text-repr-fallback {display: none;}</style><div id=\"sk-container-id-1\" class=\"sk-top-container\"><div class=\"sk-text-repr-fallback\"><pre>DecisionTreeClassifier(max_depth=16, random_state=156)</pre><b>In a Jupyter environment, please rerun this cell to show the HTML representation or trust the notebook. <br />On GitHub, the HTML representation is unable to render, please try loading this page with nbviewer.org.</b></div><div class=\"sk-container\" hidden><div class=\"sk-item\"><div class=\"sk-estimator sk-toggleable\"><input class=\"sk-toggleable__control sk-hidden--visually\" id=\"sk-estimator-id-1\" type=\"checkbox\" checked><label for=\"sk-estimator-id-1\" class=\"sk-toggleable__label sk-toggleable__label-arrow\">DecisionTreeClassifier</label><div class=\"sk-toggleable__content\"><pre>DecisionTreeClassifier(max_depth=16, random_state=156)</pre></div></div></div></div></div>"
      ],
      "text/plain": [
       "DecisionTreeClassifier(max_depth=16, random_state=156)"
      ]
     },
     "execution_count": 53,
     "metadata": {},
     "output_type": "execute_result"
    }
   ],
   "source": [
    "best_dt = grid_cv.best_estimator_\n",
    "best_dt"
   ]
  },
  {
   "cell_type": "code",
   "execution_count": 64,
   "id": "66667962",
   "metadata": {
    "ExecuteTime": {
     "end_time": "2023-02-02T06:30:37.882720Z",
     "start_time": "2023-02-02T06:30:37.870752Z"
    }
   },
   "outputs": [
    {
     "data": {
      "text/plain": [
       "tGravityAcc-min()-X                0.240128\n",
       "fBodyAccJerk-bandsEnergy()-1,16    0.201486\n",
       "angle(Y,gravityMean)               0.133057\n",
       "fBodyAccMag-energy()               0.109450\n",
       "tGravityAcc-arCoeff()-Z,2          0.096247\n",
       "fBodyGyro-maxInds-X                0.022719\n",
       "tGravityAcc-energy()-Y             0.016840\n",
       "tBodyGyro-correlation()-Y,Z        0.015651\n",
       "tBodyAccMag-arCoeff()1             0.015083\n",
       "tBodyGyro-max()-X                  0.008671\n",
       "dtype: float64"
      ]
     },
     "execution_count": 64,
     "metadata": {},
     "output_type": "execute_result"
    }
   ],
   "source": [
    "importance_feature = best_dt.feature_importances_\n",
    "importance_feature = pd.Series(importance_feature,index=XX_train.columns)\n",
    "impo_feature_top10 = importance_feature.sort_values(ascending=False)[:10]\n",
    "impo_feature_top10"
   ]
  },
  {
   "cell_type": "code",
   "execution_count": 65,
   "id": "9a663bb8",
   "metadata": {
    "ExecuteTime": {
     "end_time": "2023-02-02T06:30:38.182511Z",
     "start_time": "2023-02-02T06:30:38.177470Z"
    }
   },
   "outputs": [],
   "source": [
    "index=impo_feature_top10.index"
   ]
  },
  {
   "cell_type": "code",
   "execution_count": 66,
   "id": "75315d20",
   "metadata": {
    "ExecuteTime": {
     "end_time": "2023-02-02T06:30:38.385156Z",
     "start_time": "2023-02-02T06:30:38.377640Z"
    }
   },
   "outputs": [],
   "source": [
    "data=XX_train.loc[:,index]\n",
    "test=XX_test.loc[:,index]"
   ]
  },
  {
   "cell_type": "code",
   "execution_count": 67,
   "id": "8bd98fe2",
   "metadata": {
    "ExecuteTime": {
     "end_time": "2023-02-02T06:30:40.017322Z",
     "start_time": "2023-02-02T06:30:38.602248Z"
    }
   },
   "outputs": [
    {
     "name": "stderr",
     "output_type": "stream",
     "text": [
      "C:\\Users\\juno\\AppData\\Local\\Programs\\Python\\Python311\\Lib\\site-packages\\sklearn\\utils\\validation.py:1143: DataConversionWarning: A column-vector y was passed when a 1d array was expected. Please change the shape of y to (n_samples, ), for example using ravel().\n",
      "  y = column_or_1d(y, warn=True)\n"
     ]
    },
    {
     "data": {
      "text/plain": [
       "0.8642687478791992"
      ]
     },
     "execution_count": 67,
     "metadata": {},
     "output_type": "execute_result"
    }
   ],
   "source": [
    "svc_clf.fit(data,yy_train)\n",
    "svc_grid_pred = svc_clf.predict(test)\n",
    "svc_grie_accuracy = accuracy_score(yy_test,svc_grid_pred)\n",
    "svc_grie_accuracy"
   ]
  },
  {
   "cell_type": "code",
   "execution_count": null,
   "id": "df5cfd3c",
   "metadata": {},
   "outputs": [],
   "source": []
  }
 ],
 "metadata": {
  "kernelspec": {
   "display_name": "Python 3 (ipykernel)",
   "language": "python",
   "name": "python3"
  },
  "language_info": {
   "codemirror_mode": {
    "name": "ipython",
    "version": 3
   },
   "file_extension": ".py",
   "mimetype": "text/x-python",
   "name": "python",
   "nbconvert_exporter": "python",
   "pygments_lexer": "ipython3",
   "version": "3.11.1"
  },
  "toc": {
   "base_numbering": 1,
   "nav_menu": {},
   "number_sections": true,
   "sideBar": true,
   "skip_h1_title": false,
   "title_cell": "Table of Contents",
   "title_sidebar": "Contents",
   "toc_cell": false,
   "toc_position": {},
   "toc_section_display": true,
   "toc_window_display": false
  },
  "varInspector": {
   "cols": {
    "lenName": 16,
    "lenType": 16,
    "lenVar": 40
   },
   "kernels_config": {
    "python": {
     "delete_cmd_postfix": "",
     "delete_cmd_prefix": "del ",
     "library": "var_list.py",
     "varRefreshCmd": "print(var_dic_list())"
    },
    "r": {
     "delete_cmd_postfix": ") ",
     "delete_cmd_prefix": "rm(",
     "library": "var_list.r",
     "varRefreshCmd": "cat(var_dic_list()) "
    }
   },
   "types_to_exclude": [
    "module",
    "function",
    "builtin_function_or_method",
    "instance",
    "_Feature"
   ],
   "window_display": false
  }
 },
 "nbformat": 4,
 "nbformat_minor": 5
}

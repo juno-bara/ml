{
 "cells": [
  {
   "cell_type": "code",
   "execution_count": 1,
   "id": "12f2b6bc",
   "metadata": {
    "ExecuteTime": {
     "end_time": "2023-02-03T02:23:28.946337Z",
     "start_time": "2023-02-03T02:23:28.264868Z"
    }
   },
   "outputs": [
    {
     "data": {
      "text/plain": [
       "<matplotlib.collections.PathCollection at 0x2055aeb3a90>"
      ]
     },
     "execution_count": 1,
     "metadata": {},
     "output_type": "execute_result"
    },
    {
     "data": {
      "image/png": "[encoded data removed]",
      "text/plain": [
       "<Figure size 640x480 with 1 Axes>"
      ]
     },
     "metadata": {},
     "output_type": "display_data"
    }
   ],
   "source": [
    "import numpy as np\n",
    "import matplotlib.pyplot as plt \n",
    "\n",
    "np.random.seed(0)\n",
    "\n",
    "x = 2 * np.random.rand(100,1)\n",
    "y = 6 + 4*x + np.random.rand(100,1)\n",
    "\n",
    "plt.scatter(x,y)"
   ]
  },
  {
   "cell_type": "code",
   "execution_count": 4,
   "id": "1d679c6e",
   "metadata": {
    "ExecuteTime": {
     "end_time": "2023-02-03T04:05:54.693409Z",
     "start_time": "2023-02-03T04:05:54.687098Z"
    }
   },
   "outputs": [],
   "source": [
    "# w1과 w0 를 업데이트 할 w1_update, w0_update룰 변환\n",
    "\n",
    "def get_weight_update(w1,w0,x,y,learning_rate = 0.01):\n",
    "    n = len(y)\n",
    "    # 먼저 w1_update, w0_update를 각각 w1, w0의 shape 와 동일한 크기를 가진 0 값으로 초가화\n",
    "    w1_update = np.zeros_like(w1)\n",
    "    w0_update = np.zeros_like(w0)\n",
    "    \n",
    "    # 예측 배열을 계산하고 예측과 실제 값의 차이 계산\n",
    "    y_pred = np.dot(x,w1.T) + w0\n",
    "    diff = y - y_pred\n",
    "    \n",
    "    # w0_update를 dot 행렬 연산으로 구하기 위해 모드 1값을 가진 행렬 생성\n",
    "    w0_factors = np.ones((n,1))\n",
    "    \n",
    "    # w1과 w0을 업데이트할 w1_update와 w0_update 계산 \n",
    "    w1_update = -(2/n)*learning_rate*(np.dot(x.T,diff))\n",
    "    w0_update = -(2/n)*learning_rate*(np.dot(w0_factors.T,diff))\n",
    "    \n",
    "    return w1_update, w0_update"
   ]
  },
  {
   "cell_type": "code",
   "execution_count": 7,
   "id": "bac87479",
   "metadata": {
    "ExecuteTime": {
     "end_time": "2023-02-03T04:09:42.967831Z",
     "start_time": "2023-02-03T04:09:42.962199Z"
    }
   },
   "outputs": [],
   "source": [
    "# 입력인자 iter로 주어진 횟수먄큼 반복적으로 w1,w0을 업데이트 적용함\n",
    "\n",
    "def graidient_descent_steps(x,y,iters=10000):\n",
    "    #w1과 w0을 모두 0으로 초기화\n",
    "    w0 = np.zeros((1,1))\n",
    "    w1 = np.zeros((1,1))\n",
    "    \n",
    "    for inr in range(iters):\n",
    "        w1_update, w0_update = get_weight_update(w1,w0,x,y,learning_rate=0.01)\n",
    "        w1 = w1 - w1_update\n",
    "        w0 = w0 - w0_update\n",
    "        \n",
    "    return w1, w0"
   ]
  },
  {
   "cell_type": "code",
   "execution_count": 9,
   "id": "e20e493f",
   "metadata": {
    "ExecuteTime": {
     "end_time": "2023-02-03T04:13:02.014877Z",
     "start_time": "2023-02-03T04:13:01.967819Z"
    }
   },
   "outputs": [
    {
     "name": "stdout",
     "output_type": "stream",
     "text": [
      "[[4.02826026]] [[6.49047863]]\n",
      "0.07754792006806614\n"
     ]
    }
   ],
   "source": [
    "def get_cost(y,y_pred):\n",
    "    n = len(y)\n",
    "    cost = np.sum(np.square(y-y_pred))/n # 오차값\n",
    "    return cost\n",
    "\n",
    "\n",
    "w1,w0 =  graidient_descent_steps(x,y,iters=1000)\n",
    "print(w1,w0)\n",
    "y_pred = w1[0,0] * x + w0\n",
    "print(get_cost(y,y_pred))"
   ]
  },
  {
   "cell_type": "code",
   "execution_count": null,
   "id": "12b5861f",
   "metadata": {},
   "outputs": [],
   "source": []
  }
 ],
 "metadata": {
  "kernelspec": {
   "display_name": "Python 3 (ipykernel)",
   "language": "python",
   "name": "python3"
  },
  "language_info": {
   "codemirror_mode": {
    "name": "ipython",
    "version": 3
   },
   "file_extension": ".py",
   "mimetype": "text/x-python",
   "name": "python",
   "nbconvert_exporter": "python",
   "pygments_lexer": "ipython3",
   "version": "3.11.1"
  },
  "toc": {
   "base_numbering": 1,
   "nav_menu": {},
   "number_sections": true,
   "sideBar": true,
   "skip_h1_title": false,
   "title_cell": "Table of Contents",
   "title_sidebar": "Contents",
   "toc_cell": false,
   "toc_position": {},
   "toc_section_display": true,
   "toc_window_display": false
  },
  "varInspector": {
   "cols": {
    "lenName": 16,
    "lenType": 16,
    "lenVar": 40
   },
   "kernels_config": {
    "python": {
     "delete_cmd_postfix": "",
     "delete_cmd_prefix": "del ",
     "library": "var_list.py",
     "varRefreshCmd": "print(var_dic_list())"
    },
    "r": {
     "delete_cmd_postfix": ") ",
     "delete_cmd_prefix": "rm(",
     "library": "var_list.r",
     "varRefreshCmd": "cat(var_dic_list()) "
    }
   },
   "types_to_exclude": [
    "module",
    "function",
    "builtin_function_or_method",
    "instance",
    "_Feature"
   ],
   "window_display": false
  }
 },
 "nbformat": 4,
 "nbformat_minor": 5
}

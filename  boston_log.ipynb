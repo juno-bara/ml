{
 "cells": [
  {
   "cell_type": "code",
   "execution_count": 31,
   "id": "45bdce7d",
   "metadata": {
    "ExecuteTime": {
     "end_time": "2023-02-09T02:09:53.578430Z",
     "start_time": "2023-02-09T02:09:53.567255Z"
    }
   },
   "outputs": [],
   "source": [
    "from sklearn.preprocessing import StandardScaler, MinMaxScaler, PolynomialFeatures\n",
    "from sklearn.linear_model import Lasso, ElasticNet, Ridge\n",
    "from sklearn.model_selection import cross_val_score\n",
    "import pandas as pd\n",
    "import numpy as np\n",
    "\n",
    "boston_df = pd.read_csv('./datasets/Boston.csv',index_col=0)\n",
    "\n",
    "x = boston_df.drop(['medv'],axis=1)\n",
    "y = boston_df['medv']\n",
    "\n",
    "\n",
    "\n",
    "# method는 표준 정규 분포 변환(Standard), 최대값/최소값 정규화(MinMax), 로그변환(Log) 결정\n",
    "# p_degree는 다향식 특성을 추가할 때 적용. p_degree는 2이상 부여하지 않음. \n",
    "def get_scaled_data(method='None', p_degree=None, input_data=None):\n",
    "    if method == 'Standard':\n",
    "        scaled_data = StandardScaler().fit_transform(input_data)\n",
    "    elif method == 'MinMax':\n",
    "        scaled_data = MinMaxScaler().fit_transform(input_data)\n",
    "    elif method == 'Log':\n",
    "        scaled_data = np.log1p(input_data)\n",
    "    else:\n",
    "        scaled_data = input_data\n",
    "\n",
    "    if p_degree != None:\n",
    "        scaled_data = PolynomialFeatures(degree=p_degree, \n",
    "                                         include_bias=False).fit_transform(scaled_data)\n",
    "    \n",
    "    return scaled_data"
   ]
  },
  {
   "cell_type": "code",
   "execution_count": 38,
   "id": "35e80379",
   "metadata": {
    "ExecuteTime": {
     "end_time": "2023-02-09T02:15:54.023379Z",
     "start_time": "2023-02-09T02:15:54.017379Z"
    }
   },
   "outputs": [],
   "source": [
    "from sklearn.linear_model import ElasticNet,Ridge,Lasso\n",
    "import numpy as np\n",
    "\n",
    "def get_linear_reg_eval(model_name,params =None,x_data_n=None,y_target_n=None,verbose=True):\n",
    "    coeff_df = pd.DataFrame()\n",
    "    if verbose : print('######',model_name,'######')\n",
    "    for param in params:\n",
    "        if model_name =='Ridge' :\n",
    "            model = Ridge(alpha=param)\n",
    "        elif model_name =='Lasso' :\n",
    "            model = Lasso(alpha=param)\n",
    "        elif model_name =='ElasticNet' :\n",
    "            model = ElasticNet(alpha=param,l1_ratio=0.7) \n",
    "        neg_mse_scores = cross_val_score(model,x_data_n,y_target_n,scoring='neg_mean_squared_error',cv=5)\n",
    "        avg_rmse = np.mean(np.sqrt(-1*neg_mse_scores))\n",
    "        print(f'alpha {param} 일 때 5폴드 세트의 평균 RMSE: {avg_rmse}')\n",
    "        \n"
   ]
  },
  {
   "cell_type": "code",
   "execution_count": 39,
   "id": "8b90c98f",
   "metadata": {
    "ExecuteTime": {
     "end_time": "2023-02-09T02:15:54.666967Z",
     "start_time": "2023-02-09T02:15:54.317081Z"
    }
   },
   "outputs": [
    {
     "name": "stdout",
     "output_type": "stream",
     "text": [
      "\n",
      "## 변환 유형:None, Polynomial Degree:None\n",
      "alpha 0.1 일 때 5폴드 세트의 평균 RMSE: 5.788486627032411\n",
      "alpha 1 일 때 5폴드 세트의 평균 RMSE: 5.6525709656135446\n",
      "alpha 10 일 때 5폴드 세트의 평균 RMSE: 5.518166280868972\n",
      "alpha 100 일 때 5폴드 세트의 평균 RMSE: 5.329589628472148\n",
      "\n",
      "## 변환 유형:Standard, Polynomial Degree:None\n",
      "alpha 0.1 일 때 5폴드 세트의 평균 RMSE: 5.825992799389452\n",
      "alpha 1 일 때 5폴드 세트의 평균 RMSE: 5.802889517257745\n",
      "alpha 10 일 때 5폴드 세트의 평균 RMSE: 5.636831222559074\n",
      "alpha 100 일 때 5폴드 세트의 평균 RMSE: 5.421374711794967\n",
      "\n",
      "## 변환 유형:Standard, Polynomial Degree:2\n",
      "alpha 0.1 일 때 5폴드 세트의 평균 RMSE: 8.827235873000435\n",
      "alpha 1 일 때 5폴드 세트의 평균 RMSE: 6.871287525962447\n",
      "alpha 10 일 때 5폴드 세트의 평균 RMSE: 5.4848704255333605\n",
      "alpha 100 일 때 5폴드 세트의 평균 RMSE: 4.634437778261928\n",
      "\n",
      "## 변환 유형:MinMax, Polynomial Degree:None\n",
      "alpha 0.1 일 때 5폴드 세트의 평균 RMSE: 5.763570225288313\n",
      "alpha 1 일 때 5폴드 세트의 평균 RMSE: 5.465045081564943\n",
      "alpha 10 일 때 5폴드 세트의 평균 RMSE: 5.754163637679423\n",
      "alpha 100 일 때 5폴드 세트의 평균 RMSE: 7.634919863623537\n",
      "\n",
      "## 변환 유형:MinMax, Polynomial Degree:2\n",
      "alpha 0.1 일 때 5폴드 세트의 평균 RMSE: 5.297560003127255\n",
      "alpha 1 일 때 5폴드 세트의 평균 RMSE: 4.32266037152489\n",
      "alpha 10 일 때 5폴드 세트의 평균 RMSE: 5.185204257580535\n",
      "alpha 100 일 때 5폴드 세트의 평균 RMSE: 6.537866889704364\n",
      "\n",
      "## 변환 유형:Log, Polynomial Degree:None\n",
      "alpha 0.1 일 때 5폴드 세트의 평균 RMSE: 4.77042961468166\n",
      "alpha 1 일 때 5폴드 세트의 평균 RMSE: 4.676227018966873\n",
      "alpha 10 일 때 5폴드 세트의 평균 RMSE: 4.836439992635267\n",
      "alpha 100 일 때 5폴드 세트의 평균 RMSE: 6.2409162327190355\n"
     ]
    }
   ],
   "source": [
    "# Ridge의 alpha값을 다르게 적용하고 다양한 데이터 변환방법에 따른 RMSE 추출. \n",
    "alphas = [0.1, 1, 10, 100]\n",
    "#변환 방법은 모두 6개, 원본 그대로, 표준정규분포, 표준정규분포+다항식 특성\n",
    "# 최대/최소 정규화, 최대/최소 정규화+다항식 특성, 로그변환 \n",
    "scale_methods=[(None, None), ('Standard', None), ('Standard', 2), \n",
    "               ('MinMax', None), ('MinMax', 2), ('Log', None)]\n",
    "for scale_method in scale_methods:\n",
    "    x_data_scaled = get_scaled_data(method=scale_method[0], p_degree=scale_method[1], \n",
    "                                    input_data=x)\n",
    "    print('\\n## 변환 유형:{0}, Polynomial Degree:{1}'.format(scale_method[0], scale_method[1]))\n",
    "    get_linear_reg_eval('Ridge', params=alphas, x_data_n=x_data_scaled, \n",
    "                        y_target_n=y, verbose=False)"
   ]
  },
  {
   "cell_type": "code",
   "execution_count": 49,
   "id": "8c2e371a",
   "metadata": {
    "ExecuteTime": {
     "end_time": "2023-02-09T04:18:40.852183Z",
     "start_time": "2023-02-09T04:18:40.838254Z"
    }
   },
   "outputs": [],
   "source": [
    "import matplotlib.pyplot as  plt\n",
    "\n",
    "st_scaler = StandardScaler()\n",
    "from sklearn.linear_model import LogisticRegression\n",
    "from sklearn.datasets import load_breast_cancer\n",
    "breast_dt = load_breast_cancer()\n",
    "feature = breast_dt.data\n",
    "label = breast_dt.target\n",
    "\n",
    "feature_scale = st_scaler.fit_transform(feature)\n",
    "\n",
    "x_train, x_test, y_train, y_test = train_test_split(feature_scale,label,test_size=0.3,random_state=0)\n",
    "\n"
   ]
  },
  {
   "cell_type": "code",
   "execution_count": 50,
   "id": "cd4ebeee",
   "metadata": {
    "ExecuteTime": {
     "end_time": "2023-02-09T04:18:41.279346Z",
     "start_time": "2023-02-09T04:18:41.257097Z"
    }
   },
   "outputs": [
    {
     "name": "stdout",
     "output_type": "stream",
     "text": [
      "0.9766081871345029 0.9715608465608465\n"
     ]
    }
   ],
   "source": [
    "from sklearn.metrics import accuracy_score, roc_auc_score\n",
    "\n",
    "log_reg = LogisticRegression()\n",
    "log_pred =log_reg.fit(x_train,y_train).predict(x_test)\n",
    "\n",
    "print(accuracy_score(y_test,log_pred), roc_auc_score(y_test, log_pred))\n"
   ]
  },
  {
   "cell_type": "code",
   "execution_count": 52,
   "id": "edbf3cf0",
   "metadata": {
    "ExecuteTime": {
     "end_time": "2023-02-09T04:19:39.990635Z",
     "start_time": "2023-02-09T04:19:39.758124Z"
    }
   },
   "outputs": [
    {
     "name": "stdout",
     "output_type": "stream",
     "text": [
      "{'C': 1, 'penalty': 'l2'} 0.975392184164114\n"
     ]
    },
    {
     "name": "stderr",
     "output_type": "stream",
     "text": [
      "C:\\Users\\juno\\AppData\\Local\\Programs\\Python\\Python311\\Lib\\site-packages\\sklearn\\model_selection\\_validation.py:378: FitFailedWarning: \n",
      "18 fits failed out of a total of 36.\n",
      "The score on these train-test partitions for these parameters will be set to nan.\n",
      "If these failures are not expected, you can try to debug them by setting error_score='raise'.\n",
      "\n",
      "Below are more details about the failures:\n",
      "--------------------------------------------------------------------------------\n",
      "18 fits failed with the following error:\n",
      "Traceback (most recent call last):\n",
      "  File \"C:\\Users\\juno\\AppData\\Local\\Programs\\Python\\Python311\\Lib\\site-packages\\sklearn\\model_selection\\_validation.py\", line 686, in _fit_and_score\n",
      "    estimator.fit(X_train, y_train, **fit_params)\n",
      "  File \"C:\\Users\\juno\\AppData\\Local\\Programs\\Python\\Python311\\Lib\\site-packages\\sklearn\\linear_model\\_logistic.py\", line 1162, in fit\n",
      "    solver = _check_solver(self.solver, self.penalty, self.dual)\n",
      "             ^^^^^^^^^^^^^^^^^^^^^^^^^^^^^^^^^^^^^^^^^^^^^^^^^^^\n",
      "  File \"C:\\Users\\juno\\AppData\\Local\\Programs\\Python\\Python311\\Lib\\site-packages\\sklearn\\linear_model\\_logistic.py\", line 54, in _check_solver\n",
      "    raise ValueError(\n",
      "ValueError: Solver lbfgs supports only 'l2' or 'none' penalties, got l1 penalty.\n",
      "\n",
      "  warnings.warn(some_fits_failed_message, FitFailedWarning)\n",
      "C:\\Users\\juno\\AppData\\Local\\Programs\\Python\\Python311\\Lib\\site-packages\\sklearn\\model_selection\\_search.py:952: UserWarning: One or more of the test scores are non-finite: [0.94555834        nan 0.97364708        nan 0.97539218        nan\n",
      " 0.97539218        nan 0.97011974        nan 0.96661097        nan]\n",
      "  warnings.warn(\n"
     ]
    }
   ],
   "source": [
    "from sklearn.model_selection import GridSearchCV\n",
    "\n",
    "params = {\"penalty\":['l2','l1'],'C' : [0.01, 0.1, 1,1,5,10]}\n",
    "\n",
    "grid = GridSearchCV(log_reg, param_grid=params, scoring=\"accuracy\", cv=3)\n",
    "grid.fit(feature_scale, label)\n",
    "print(grid.best_params_, grid.best_score_)"
   ]
  },
  {
   "cell_type": "code",
   "execution_count": null,
   "id": "6389c871",
   "metadata": {},
   "outputs": [],
   "source": []
  }
 ],
 "metadata": {
  "kernelspec": {
   "display_name": "Python 3 (ipykernel)",
   "language": "python",
   "name": "python3"
  },
  "language_info": {
   "codemirror_mode": {
    "name": "ipython",
    "version": 3
   },
   "file_extension": ".py",
   "mimetype": "text/x-python",
   "name": "python",
   "nbconvert_exporter": "python",
   "pygments_lexer": "ipython3",
   "version": "3.11.1"
  },
  "toc": {
   "base_numbering": 1,
   "nav_menu": {},
   "number_sections": true,
   "sideBar": true,
   "skip_h1_title": false,
   "title_cell": "Table of Contents",
   "title_sidebar": "Contents",
   "toc_cell": false,
   "toc_position": {},
   "toc_section_display": true,
   "toc_window_display": false
  },
  "varInspector": {
   "cols": {
    "lenName": 16,
    "lenType": 16,
    "lenVar": 40
   },
   "kernels_config": {
    "python": {
     "delete_cmd_postfix": "",
     "delete_cmd_prefix": "del ",
     "library": "var_list.py",
     "varRefreshCmd": "print(var_dic_list())"
    },
    "r": {
     "delete_cmd_postfix": ") ",
     "delete_cmd_prefix": "rm(",
     "library": "var_list.r",
     "varRefreshCmd": "cat(var_dic_list()) "
    }
   },
   "types_to_exclude": [
    "module",
    "function",
    "builtin_function_or_method",
    "instance",
    "_Feature"
   ],
   "window_display": false
  }
 },
 "nbformat": 4,
 "nbformat_minor": 5
}

{
 "cells": [
  {
   "cell_type": "markdown",
   "id": "edabe5a9",
   "metadata": {},
   "source": [
    "### sklearn.model_selection.cross_val_score¶\n",
    "\n",
    "* sklearn.model_selection.cross_val_score(_estimator_, _X_, _y=None_, _*_, _groups=None_, _scoring=None_, _cv=None_, _n_jobs=None_, _verbose=0_, _fit_params=None_, _pre_dispatch='2*n_jobs'_, _error_score=nan_)[[source]](https://github.com/scikit-learn/scikit-learn/blob/f3f51f9b6/sklearn/model_selection/_validation.py#L381)[¶](https://scikit-learn.org/1.1/modules/generated/sklearn.model_selection.cross_val_score.html?highlight=cross_val#sklearn.model_selection.cross_val_score \"Permalink to this definition\")\n",
    "\n",
    "Parameters:\n",
    "\n",
    "**estimator**estimator object implementing ‘fit’\n",
    "\n",
    "The object to use to fit the data.\n",
    "\n",
    "**X**array-like of shape (n_samples, n_features)\n",
    "\n",
    "The data to fit. Can be for example a list, or an array.\n",
    "\n",
    "**y**array-like of shape (n_samples,) or (n_samples, n_outputs), default=None\n",
    "\n",
    "The target variable to try to predict in the case of supervised learning.\n",
    "\n",
    "**groups**array-like of shape (n_samples,), default=None\n",
    "\n",
    "Group labels for the samples used while splitting the dataset into train/test set. Only used in conjunction with a “Group”  [cv](https://scikit-learn.org/1.1/glossary.html#term-cv)  instance (e.g.,  [`GroupKFold`](https://scikit-learn.org/1.1/modules/generated/sklearn.model_selection.GroupKFold.html#sklearn.model_selection.GroupKFold \"sklearn.model_selection.GroupKFold\")).\n",
    "\n",
    "**scoring**str or callable, default=None\n",
    "\n",
    "A str (see model evaluation documentation) or a scorer callable object / function with signature  `scorer(estimator,  X,  y)`  which should return only a single value.\n",
    "\n",
    "Similar to  [`cross_validate`](https://scikit-learn.org/1.1/modules/generated/sklearn.model_selection.cross_validate.html#sklearn.model_selection.cross_validate \"sklearn.model_selection.cross_validate\")  but only a single metric is permitted.\n",
    "\n",
    "If  `None`, the estimator’s default scorer (if available) is used.\n",
    "\n",
    "**cv**int, cross-validation generator or an iterable, default=None\n",
    "\n",
    "Determines the cross-validation splitting strategy. Possible inputs for cv are:\n",
    "\n",
    "-   `None`, to use the default 5-fold cross validation,\n",
    "    \n",
    "-   int, to specify the number of folds in a  `(Stratified)KFold`,\n",
    "    \n",
    "-   [CV splitter](https://scikit-learn.org/1.1/glossary.html#term-CV-splitter),\n",
    "    \n",
    "-   An iterable that generates (train, test) splits as arrays of indices.\n",
    "    \n",
    "\n",
    "For  `int`/`None`  inputs, if the estimator is a classifier and  `y`  is either binary or multiclass,  [`StratifiedKFold`](https://scikit-learn.org/1.1/modules/generated/sklearn.model_selection.StratifiedKFold.html#sklearn.model_selection.StratifiedKFold \"sklearn.model_selection.StratifiedKFold\")  is used. In all other cases,  [`KFold`](https://scikit-learn.org/1.1/modules/generated/sklearn.model_selection.KFold.html#sklearn.model_selection.KFold \"sklearn.model_selection.KFold\")  is used. These splitters are instantiated with  `shuffle=False`  so the splits will be the same across calls.\n",
    "\n",
    "Refer  [User Guide](https://scikit-learn.org/1.1/modules/cross_validation.html#cross-validation)  for the various cross-validation strategies that can be used here.\n",
    "\n",
    "Changed in version 0.22: `cv`  default value if  `None`  changed from 3-fold to 5-fold.\n",
    "\n",
    "**n_jobs**int, default=None\n",
    "\n",
    "Number of jobs to run in parallel. Training the estimator and computing the score are parallelized over the cross-validation splits.  `None`  means 1 unless in a  [`joblib.parallel_backend`](https://joblib.readthedocs.io/en/latest/parallel.html#joblib.parallel_backend \"(in joblib v1.3.0.dev0)\")  context.  `-1`  means using all processors. See  [Glossary](https://scikit-learn.org/1.1/glossary.html#term-n_jobs)  for more details.\n",
    "\n",
    "**verbose**int, default=0\n",
    "\n",
    "The verbosity level.\n",
    "\n",
    "**fit_params**dict, default=None\n",
    "\n",
    "Parameters to pass to the fit method of the estimator.\n",
    "\n",
    "**pre_dispatch**int or str, default=’2*n_jobs’\n",
    "\n",
    "Controls the number of jobs that get dispatched during parallel execution. Reducing this number can be useful to avoid an explosion of memory consumption when more jobs get dispatched than CPUs can process. This parameter can be:\n",
    "\n",
    "> -   `None`, in which case all the jobs are immediately created and spawned. Use this for lightweight and fast-running jobs, to avoid delays due to on-demand spawning of the jobs\n",
    ">     \n",
    "> -   An int, giving the exact number of total jobs that are spawned\n",
    ">     \n",
    "> -   A str, giving an expression as a function of n_jobs, as in ‘2*n_jobs’\n",
    ">     \n",
    "\n",
    "**error_score**‘raise’ or numeric, default=np.nan\n",
    "\n",
    "Value to assign to the score if an error occurs in estimator fitting. If set to ‘raise’, the error is raised. If a numeric value is given, FitFailedWarning is raised.\n",
    "\n",
    "New in version 0.20."
   ]
  },
  {
   "cell_type": "code",
   "execution_count": 2,
   "id": "5d3c9056",
   "metadata": {
    "ExecuteTime": {
     "end_time": "2023-01-27T07:15:00.982882Z",
     "start_time": "2023-01-27T07:15:00.956185Z"
    }
   },
   "outputs": [
    {
     "name": "stdout",
     "output_type": "stream",
     "text": [
      " 교차 검증별 정확도 : [0.9667 0.9667 0.9    0.9667 1.    ], 평균 검증 정확도 : 0.96\n"
     ]
    }
   ],
   "source": [
    "from sklearn.model_selection import cross_val_score\n",
    "from sklearn.datasets import load_iris\n",
    "from sklearn.tree import DecisionTreeClassifier\n",
    "import numpy as np \n",
    "\n",
    "iris = load_iris()\n",
    "clf = DecisionTreeClassifier(random_state=0)\n",
    "data = iris.data\n",
    "label = iris.target\n",
    "score = cross_val_score(clf, data, label, scoring= \"accuracy\", cv = 5)\n",
    "\n",
    "print(f\" 교차 검증별 정확도 : {np.round(score,4)}, 평균 검증 정확도 : {np.round(np.mean(score),4)}\")"
   ]
  },
  {
   "cell_type": "code",
   "execution_count": null,
   "id": "e53f3433",
   "metadata": {},
   "outputs": [],
   "source": []
  }
 ],
 "metadata": {
  "kernelspec": {
   "display_name": "Python 3 (ipykernel)",
   "language": "python",
   "name": "python3"
  },
  "language_info": {
   "codemirror_mode": {
    "name": "ipython",
    "version": 3
   },
   "file_extension": ".py",
   "mimetype": "text/x-python",
   "name": "python",
   "nbconvert_exporter": "python",
   "pygments_lexer": "ipython3",
   "version": "3.11.1"
  },
  "toc": {
   "base_numbering": 1,
   "nav_menu": {},
   "number_sections": true,
   "sideBar": true,
   "skip_h1_title": false,
   "title_cell": "Table of Contents",
   "title_sidebar": "Contents",
   "toc_cell": false,
   "toc_position": {},
   "toc_section_display": true,
   "toc_window_display": false
  },
  "varInspector": {
   "cols": {
    "lenName": 16,
    "lenType": 16,
    "lenVar": 40
   },
   "kernels_config": {
    "python": {
     "delete_cmd_postfix": "",
     "delete_cmd_prefix": "del ",
     "library": "var_list.py",
     "varRefreshCmd": "print(var_dic_list())"
    },
    "r": {
     "delete_cmd_postfix": ") ",
     "delete_cmd_prefix": "rm(",
     "library": "var_list.r",
     "varRefreshCmd": "cat(var_dic_list()) "
    }
   },
   "types_to_exclude": [
    "module",
    "function",
    "builtin_function_or_method",
    "instance",
    "_Feature"
   ],
   "window_display": false
  }
 },
 "nbformat": 4,
 "nbformat_minor": 5
}

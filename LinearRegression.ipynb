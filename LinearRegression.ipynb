{
 "cells": [
  {
   "cell_type": "markdown",
   "id": "99468136",
   "metadata": {},
   "source": [
    "### sklearn.linear_model.LinearRegression\n",
    "\n",
    "* _class_ sklearn.linear_model.LinearRegression(_*_, _fit_intercept=True_, _normalize='deprecated'_, _copy_X=True_, _n_jobs=None_, _positive=False_)[[source]](https://github.com/scikit-learn/scikit-learn/blob/f3f51f9b6/sklearn/linear_model/_base.py#L529)[¶](https://scikit-learn.org/1.1/modules/generated/sklearn.linear_model.LinearRegression.html?highlight=linear+reg#sklearn.linear_model.LinearRegression \"Permalink to this definition\")\n",
    "\n",
    "*Parameters:\n",
    "\n",
    "fit_interceptbool, default=True\n",
    "Whether to calculate the intercept for this model. If set to False, no intercept will be used in calculations (i.e. data is expected to be centered).\n",
    "\n",
    "normalizebool, default=False\n",
    "This parameter is ignored when fit_intercept is set to False. If True, the regressors X will be normalized before regression by subtracting the mean and dividing by the l2-norm. If you wish to standardize, please use StandardScaler before calling fit on an estimator with normalize=False.\n",
    "\n",
    "Deprecated since version 1.0: normalize was deprecated in version 1.0 and will be removed in 1.2.\n",
    "copy_Xbool, default=True\n",
    "If True, X will be copied; else, it may be overwritten.\n",
    "\n",
    "n_jobsint, default=None\n",
    "The number of jobs to use for the computation. This will only provide speedup in case of sufficiently large problems, that is if firstly n_targets > 1 and secondly X is sparse or if positive is set to True. None means 1 unless in a joblib.parallel_backend context. -1 means using all processors. See Glossary for more details.\n",
    "\n",
    "positivebool, default=False\n",
    "When set to True, forces the coefficients to be positive. This option is only supported for dense arrays."
   ]
  },
  {
   "cell_type": "markdown",
   "id": "c3573732",
   "metadata": {},
   "source": [
    "## diabets"
   ]
  },
  {
   "cell_type": "code",
   "execution_count": 1,
   "id": "2c0f26cc",
   "metadata": {
    "ExecuteTime": {
     "end_time": "2023-02-03T05:51:43.665065Z",
     "start_time": "2023-02-03T05:51:42.323252Z"
    }
   },
   "outputs": [],
   "source": [
    "from sklearn.datasets import load_diabetes\n",
    "import pandas as pd\n",
    "import matplotlib.pyplot as plt\n",
    "\n",
    "diabet = load_diabetes()\n",
    "feature = diabet.data\n",
    "label = diabet.target"
   ]
  },
  {
   "cell_type": "code",
   "execution_count": 3,
   "id": "b08309d8",
   "metadata": {
    "ExecuteTime": {
     "end_time": "2023-02-03T05:52:22.615237Z",
     "start_time": "2023-02-03T05:52:22.562528Z"
    }
   },
   "outputs": [
    {
     "name": "stdout",
     "output_type": "stream",
     "text": [
      "<class 'pandas.core.frame.DataFrame'>\n",
      "RangeIndex: 442 entries, 0 to 441\n",
      "Data columns (total 10 columns):\n",
      " #   Column  Non-Null Count  Dtype  \n",
      "---  ------  --------------  -----  \n",
      " 0   age     442 non-null    float64\n",
      " 1   sex     442 non-null    float64\n",
      " 2   bmi     442 non-null    float64\n",
      " 3   bp      442 non-null    float64\n",
      " 4   s1      442 non-null    float64\n",
      " 5   s2      442 non-null    float64\n",
      " 6   s3      442 non-null    float64\n",
      " 7   s4      442 non-null    float64\n",
      " 8   s5      442 non-null    float64\n",
      " 9   s6      442 non-null    float64\n",
      "dtypes: float64(10)\n",
      "memory usage: 34.7 KB\n",
      "None                 age           sex           bmi            bp            s1  \\\n",
      "count  4.420000e+02  4.420000e+02  4.420000e+02  4.420000e+02  4.420000e+02   \n",
      "mean  -2.511817e-19  1.230790e-17 -2.245564e-16 -4.797570e-17 -1.381499e-17   \n",
      "std    4.761905e-02  4.761905e-02  4.761905e-02  4.761905e-02  4.761905e-02   \n",
      "min   -1.072256e-01 -4.464164e-02 -9.027530e-02 -1.123988e-01 -1.267807e-01   \n",
      "25%   -3.729927e-02 -4.464164e-02 -3.422907e-02 -3.665608e-02 -3.424784e-02   \n",
      "50%    5.383060e-03 -4.464164e-02 -7.283766e-03 -5.670422e-03 -4.320866e-03   \n",
      "75%    3.807591e-02  5.068012e-02  3.124802e-02  3.564379e-02  2.835801e-02   \n",
      "max    1.107267e-01  5.068012e-02  1.705552e-01  1.320436e-01  1.539137e-01   \n",
      "\n",
      "                 s2            s3            s4            s5            s6  \n",
      "count  4.420000e+02  4.420000e+02  4.420000e+02  4.420000e+02  4.420000e+02  \n",
      "mean   3.918434e-17 -5.777179e-18 -9.042540e-18  9.293722e-17  1.130318e-17  \n",
      "std    4.761905e-02  4.761905e-02  4.761905e-02  4.761905e-02  4.761905e-02  \n",
      "min   -1.156131e-01 -1.023071e-01 -7.639450e-02 -1.260971e-01 -1.377672e-01  \n",
      "25%   -3.035840e-02 -3.511716e-02 -3.949338e-02 -3.324559e-02 -3.317903e-02  \n",
      "50%   -3.819065e-03 -6.584468e-03 -2.592262e-03 -1.947171e-03 -1.077698e-03  \n",
      "75%    2.984439e-02  2.931150e-02  3.430886e-02  3.243232e-02  2.791705e-02  \n",
      "max    1.987880e-01  1.811791e-01  1.852344e-01  1.335973e-01  1.356118e-01  \n"
     ]
    },
    {
     "data": {
      "text/html": [
       "<div>\n",
       "<style scoped>\n",
       "    .dataframe tbody tr th:only-of-type {\n",
       "        vertical-align: middle;\n",
       "    }\n",
       "\n",
       "    .dataframe tbody tr th {\n",
       "        vertical-align: top;\n",
       "    }\n",
       "\n",
       "    .dataframe thead th {\n",
       "        text-align: right;\n",
       "    }\n",
       "</style>\n",
       "<table border=\"1\" class=\"dataframe\">\n",
       "  <thead>\n",
       "    <tr style=\"text-align: right;\">\n",
       "      <th></th>\n",
       "      <th>age</th>\n",
       "      <th>sex</th>\n",
       "      <th>bmi</th>\n",
       "      <th>bp</th>\n",
       "      <th>s1</th>\n",
       "      <th>s2</th>\n",
       "      <th>s3</th>\n",
       "      <th>s4</th>\n",
       "      <th>s5</th>\n",
       "      <th>s6</th>\n",
       "      <th>label</th>\n",
       "    </tr>\n",
       "  </thead>\n",
       "  <tbody>\n",
       "    <tr>\n",
       "      <th>0</th>\n",
       "      <td>0.038076</td>\n",
       "      <td>0.050680</td>\n",
       "      <td>0.061696</td>\n",
       "      <td>0.021872</td>\n",
       "      <td>-0.044223</td>\n",
       "      <td>-0.034821</td>\n",
       "      <td>-0.043401</td>\n",
       "      <td>-0.002592</td>\n",
       "      <td>0.019907</td>\n",
       "      <td>-0.017646</td>\n",
       "      <td>151.0</td>\n",
       "    </tr>\n",
       "    <tr>\n",
       "      <th>1</th>\n",
       "      <td>-0.001882</td>\n",
       "      <td>-0.044642</td>\n",
       "      <td>-0.051474</td>\n",
       "      <td>-0.026328</td>\n",
       "      <td>-0.008449</td>\n",
       "      <td>-0.019163</td>\n",
       "      <td>0.074412</td>\n",
       "      <td>-0.039493</td>\n",
       "      <td>-0.068332</td>\n",
       "      <td>-0.092204</td>\n",
       "      <td>75.0</td>\n",
       "    </tr>\n",
       "    <tr>\n",
       "      <th>2</th>\n",
       "      <td>0.085299</td>\n",
       "      <td>0.050680</td>\n",
       "      <td>0.044451</td>\n",
       "      <td>-0.005670</td>\n",
       "      <td>-0.045599</td>\n",
       "      <td>-0.034194</td>\n",
       "      <td>-0.032356</td>\n",
       "      <td>-0.002592</td>\n",
       "      <td>0.002861</td>\n",
       "      <td>-0.025930</td>\n",
       "      <td>141.0</td>\n",
       "    </tr>\n",
       "    <tr>\n",
       "      <th>3</th>\n",
       "      <td>-0.089063</td>\n",
       "      <td>-0.044642</td>\n",
       "      <td>-0.011595</td>\n",
       "      <td>-0.036656</td>\n",
       "      <td>0.012191</td>\n",
       "      <td>0.024991</td>\n",
       "      <td>-0.036038</td>\n",
       "      <td>0.034309</td>\n",
       "      <td>0.022688</td>\n",
       "      <td>-0.009362</td>\n",
       "      <td>206.0</td>\n",
       "    </tr>\n",
       "    <tr>\n",
       "      <th>4</th>\n",
       "      <td>0.005383</td>\n",
       "      <td>-0.044642</td>\n",
       "      <td>-0.036385</td>\n",
       "      <td>0.021872</td>\n",
       "      <td>0.003935</td>\n",
       "      <td>0.015596</td>\n",
       "      <td>0.008142</td>\n",
       "      <td>-0.002592</td>\n",
       "      <td>-0.031988</td>\n",
       "      <td>-0.046641</td>\n",
       "      <td>135.0</td>\n",
       "    </tr>\n",
       "    <tr>\n",
       "      <th>...</th>\n",
       "      <td>...</td>\n",
       "      <td>...</td>\n",
       "      <td>...</td>\n",
       "      <td>...</td>\n",
       "      <td>...</td>\n",
       "      <td>...</td>\n",
       "      <td>...</td>\n",
       "      <td>...</td>\n",
       "      <td>...</td>\n",
       "      <td>...</td>\n",
       "      <td>...</td>\n",
       "    </tr>\n",
       "    <tr>\n",
       "      <th>437</th>\n",
       "      <td>0.041708</td>\n",
       "      <td>0.050680</td>\n",
       "      <td>0.019662</td>\n",
       "      <td>0.059744</td>\n",
       "      <td>-0.005697</td>\n",
       "      <td>-0.002566</td>\n",
       "      <td>-0.028674</td>\n",
       "      <td>-0.002592</td>\n",
       "      <td>0.031193</td>\n",
       "      <td>0.007207</td>\n",
       "      <td>178.0</td>\n",
       "    </tr>\n",
       "    <tr>\n",
       "      <th>438</th>\n",
       "      <td>-0.005515</td>\n",
       "      <td>0.050680</td>\n",
       "      <td>-0.015906</td>\n",
       "      <td>-0.067642</td>\n",
       "      <td>0.049341</td>\n",
       "      <td>0.079165</td>\n",
       "      <td>-0.028674</td>\n",
       "      <td>0.034309</td>\n",
       "      <td>-0.018114</td>\n",
       "      <td>0.044485</td>\n",
       "      <td>104.0</td>\n",
       "    </tr>\n",
       "    <tr>\n",
       "      <th>439</th>\n",
       "      <td>0.041708</td>\n",
       "      <td>0.050680</td>\n",
       "      <td>-0.015906</td>\n",
       "      <td>0.017293</td>\n",
       "      <td>-0.037344</td>\n",
       "      <td>-0.013840</td>\n",
       "      <td>-0.024993</td>\n",
       "      <td>-0.011080</td>\n",
       "      <td>-0.046883</td>\n",
       "      <td>0.015491</td>\n",
       "      <td>132.0</td>\n",
       "    </tr>\n",
       "    <tr>\n",
       "      <th>440</th>\n",
       "      <td>-0.045472</td>\n",
       "      <td>-0.044642</td>\n",
       "      <td>0.039062</td>\n",
       "      <td>0.001215</td>\n",
       "      <td>0.016318</td>\n",
       "      <td>0.015283</td>\n",
       "      <td>-0.028674</td>\n",
       "      <td>0.026560</td>\n",
       "      <td>0.044529</td>\n",
       "      <td>-0.025930</td>\n",
       "      <td>220.0</td>\n",
       "    </tr>\n",
       "    <tr>\n",
       "      <th>441</th>\n",
       "      <td>-0.045472</td>\n",
       "      <td>-0.044642</td>\n",
       "      <td>-0.073030</td>\n",
       "      <td>-0.081413</td>\n",
       "      <td>0.083740</td>\n",
       "      <td>0.027809</td>\n",
       "      <td>0.173816</td>\n",
       "      <td>-0.039493</td>\n",
       "      <td>-0.004222</td>\n",
       "      <td>0.003064</td>\n",
       "      <td>57.0</td>\n",
       "    </tr>\n",
       "  </tbody>\n",
       "</table>\n",
       "<p>442 rows × 11 columns</p>\n",
       "</div>"
      ],
      "text/plain": [
       "          age       sex       bmi        bp        s1        s2        s3  \\\n",
       "0    0.038076  0.050680  0.061696  0.021872 -0.044223 -0.034821 -0.043401   \n",
       "1   -0.001882 -0.044642 -0.051474 -0.026328 -0.008449 -0.019163  0.074412   \n",
       "2    0.085299  0.050680  0.044451 -0.005670 -0.045599 -0.034194 -0.032356   \n",
       "3   -0.089063 -0.044642 -0.011595 -0.036656  0.012191  0.024991 -0.036038   \n",
       "4    0.005383 -0.044642 -0.036385  0.021872  0.003935  0.015596  0.008142   \n",
       "..        ...       ...       ...       ...       ...       ...       ...   \n",
       "437  0.041708  0.050680  0.019662  0.059744 -0.005697 -0.002566 -0.028674   \n",
       "438 -0.005515  0.050680 -0.015906 -0.067642  0.049341  0.079165 -0.028674   \n",
       "439  0.041708  0.050680 -0.015906  0.017293 -0.037344 -0.013840 -0.024993   \n",
       "440 -0.045472 -0.044642  0.039062  0.001215  0.016318  0.015283 -0.028674   \n",
       "441 -0.045472 -0.044642 -0.073030 -0.081413  0.083740  0.027809  0.173816   \n",
       "\n",
       "           s4        s5        s6  label  \n",
       "0   -0.002592  0.019907 -0.017646  151.0  \n",
       "1   -0.039493 -0.068332 -0.092204   75.0  \n",
       "2   -0.002592  0.002861 -0.025930  141.0  \n",
       "3    0.034309  0.022688 -0.009362  206.0  \n",
       "4   -0.002592 -0.031988 -0.046641  135.0  \n",
       "..        ...       ...       ...    ...  \n",
       "437 -0.002592  0.031193  0.007207  178.0  \n",
       "438  0.034309 -0.018114  0.044485  104.0  \n",
       "439 -0.011080 -0.046883  0.015491  132.0  \n",
       "440  0.026560  0.044529 -0.025930  220.0  \n",
       "441 -0.039493 -0.004222  0.003064   57.0  \n",
       "\n",
       "[442 rows x 11 columns]"
      ]
     },
     "execution_count": 3,
     "metadata": {},
     "output_type": "execute_result"
    }
   ],
   "source": [
    "diabet_df = pd.DataFrame(feature, columns=diabet.feature_names)\n",
    "print(diabet_df.info(),diabet_df.describe())\n",
    "diabet_df[\"label\"] = label\n",
    "diabet_df"
   ]
  },
  {
   "cell_type": "code",
   "execution_count": 4,
   "id": "6bec13b9",
   "metadata": {
    "ExecuteTime": {
     "end_time": "2023-02-03T05:55:01.677385Z",
     "start_time": "2023-02-03T05:55:01.655574Z"
    }
   },
   "outputs": [
    {
     "data": {
      "text/plain": [
       "array([123.82675178, 142.93081553, 141.00460267, 171.89771549,\n",
       "       177.42827777, 194.61875272, 158.02260283,  78.06508479,\n",
       "       115.28941665, 165.16629497,  98.52333951, 196.934712  ,\n",
       "       142.36135135, 132.2082274 ,  90.48942316, 171.88805201,\n",
       "       123.56107426, 210.73928305, 223.4851259 , 132.02510797,\n",
       "       214.50011203, 237.24913303, 176.6859957 ,  72.78689587,\n",
       "       121.7470176 ,  68.99200916, 144.71006845, 168.01574389,\n",
       "       202.40009041, 122.26408708,  83.94937815, 250.69363296,\n",
       "       137.51800242, 100.9400768 ,  81.74425714, 156.71815118,\n",
       "       111.96690586, 244.34410898, 124.3058561 , 162.96943729,\n",
       "        48.98588529, 210.29040834, 193.57868954,  62.02527425,\n",
       "        96.23737938, 182.33722112, 191.20087205, 107.08605277,\n",
       "       179.71767771, 166.23393553,  84.27392664, 192.12097532,\n",
       "        45.44917013,  55.91948033, 209.77808653, 163.74327039,\n",
       "       141.23684927, 247.40258064, 146.21912202, 191.76211024,\n",
       "       180.99975812, 182.84824496, 150.93121583,  61.73734145,\n",
       "       223.59986357,  93.18979589, 189.62455828, 160.78178204,\n",
       "       190.95669437, 244.09964599, 218.8428947 , 127.01026418,\n",
       "       116.67118159, 252.64260674, 141.41478623, 182.12549833,\n",
       "       172.54726535, 203.38549185, 137.96641148, 211.51562852,\n",
       "       165.55668954,  56.10582843, 143.56550173, 254.40649619,\n",
       "       133.18866417, 154.17935101, 123.42300642, 144.0890487 ,\n",
       "       155.68224611])"
      ]
     },
     "execution_count": 4,
     "metadata": {},
     "output_type": "execute_result"
    }
   ],
   "source": [
    "from sklearn.linear_model import LinearRegression\n",
    "li_rgr = LinearRegression()\n",
    "\n",
    "from sklearn.model_selection import train_test_split\n",
    "x_train, x_test, y_train, y_test = train_test_split(feature, label,test_size=0.2, random_state=156)\n",
    "\n",
    "li_rgr.fit(x_train,y_train)\n",
    "li_pred = li_rgr.predict(x_test)\n",
    "li_pred"
   ]
  },
  {
   "cell_type": "code",
   "execution_count": 15,
   "id": "a1f55206",
   "metadata": {
    "ExecuteTime": {
     "end_time": "2023-02-03T06:00:53.853330Z",
     "start_time": "2023-02-03T06:00:53.760383Z"
    }
   },
   "outputs": [
    {
     "data": {
      "image/png": "[encoded data removed]",
      "text/plain": [
       "<Figure size 640x480 with 1 Axes>"
      ]
     },
     "metadata": {},
     "output_type": "display_data"
    }
   ],
   "source": [
    "import numpy as np\n",
    "\n",
    "\n",
    "plt.plot(y_test,li_pred, \".\")\n",
    "x = np.linspace(0,330,100)\n",
    "y = x\n",
    "plt.show()"
   ]
  },
  {
   "cell_type": "code",
   "execution_count": 9,
   "id": "ec7fb992",
   "metadata": {
    "ExecuteTime": {
     "end_time": "2023-02-03T05:58:28.930180Z",
     "start_time": "2023-02-03T05:58:28.923493Z"
    }
   },
   "outputs": [
    {
     "data": {
      "text/plain": [
       "3049.651251926588"
      ]
     },
     "execution_count": 9,
     "metadata": {},
     "output_type": "execute_result"
    }
   ],
   "source": [
    "from sklearn.metrics import mean_squared_error\n",
    "mean_squared_error(y_test,li_pred)"
   ]
  },
  {
   "cell_type": "markdown",
   "id": "1e363b0a",
   "metadata": {
    "ExecuteTime": {
     "end_time": "2023-02-03T06:26:22.320946Z",
     "start_time": "2023-02-03T06:26:22.304173Z"
    }
   },
   "source": [
    "### boston"
   ]
  },
  {
   "cell_type": "code",
   "execution_count": 58,
   "id": "8dd9f212",
   "metadata": {
    "ExecuteTime": {
     "end_time": "2023-02-03T07:02:54.749549Z",
     "start_time": "2023-02-03T07:02:54.740074Z"
    }
   },
   "outputs": [],
   "source": [
    "boston = pd.read_csv(\"./datasets/Boston.csv\", index_col=0)\n",
    "\n",
    "label = boston[\"medv\"]\n",
    "feature = boston.drop(columns= \"medv\", axis=1)"
   ]
  },
  {
   "cell_type": "code",
   "execution_count": 59,
   "id": "3aaf3f88",
   "metadata": {
    "ExecuteTime": {
     "end_time": "2023-02-03T07:02:55.264006Z",
     "start_time": "2023-02-03T07:02:55.249118Z"
    }
   },
   "outputs": [],
   "source": [
    "from sklearn.model_selection import train_test_split\n",
    "\n",
    "x_train, x_test, y_train, y_test = train_test_split(feature, label, test_size=0.2, random_state=156)\n",
    "\n",
    "from sklearn.preprocessing import MinMaxScaler\n",
    "\n",
    "\n",
    "x_train =MinMaxScaler().fit_transform(x_train)\n",
    "x_test = MinMaxScaler().fit_transform(x_test)\n",
    "\n",
    "from sklearn.metrics import mean_absolute_error, mean_squared_error\n",
    "\n",
    "li_rgr.fit(x_train,y_train)\n",
    "li_boston_pred = li_rgr.predict(x_test)\n"
   ]
  },
  {
   "cell_type": "code",
   "execution_count": 60,
   "id": "c7fbc492",
   "metadata": {
    "ExecuteTime": {
     "end_time": "2023-02-03T07:02:55.743486Z",
     "start_time": "2023-02-03T07:02:55.736740Z"
    }
   },
   "outputs": [
    {
     "name": "stdout",
     "output_type": "stream",
     "text": [
      "mse :  17.39431933703928 mae :  3.179950408053613\n",
      "절편값 27.717858615191158 회귀 계수값 [ -9.331963     6.41812066   1.07180379   2.75649142  -9.68329439\n",
      "  18.00034119   0.57860826 -18.09617926   7.55550614  -6.89596918\n",
      "  -8.31387638   3.66526738 -19.71901989]\n"
     ]
    }
   ],
   "source": [
    "print(\"mse : \",mean_squared_error(y_test,li_boston_pred), \"mae : \",mean_absolute_error(y_test,li_boston_pred))\n",
    "print(\"절편값\",li_rgr.intercept_,\"회귀 계수값\",li_rgr.coef_)"
   ]
  },
  {
   "cell_type": "code",
   "execution_count": 57,
   "id": "d2b58990",
   "metadata": {
    "ExecuteTime": {
     "end_time": "2023-02-03T07:02:06.499897Z",
     "start_time": "2023-02-03T07:02:06.492122Z"
    }
   },
   "outputs": [
    {
     "data": {
      "text/html": [
       "<div>\n",
       "<style scoped>\n",
       "    .dataframe tbody tr th:only-of-type {\n",
       "        vertical-align: middle;\n",
       "    }\n",
       "\n",
       "    .dataframe tbody tr th {\n",
       "        vertical-align: top;\n",
       "    }\n",
       "\n",
       "    .dataframe thead th {\n",
       "        text-align: right;\n",
       "    }\n",
       "</style>\n",
       "<table border=\"1\" class=\"dataframe\">\n",
       "  <thead>\n",
       "    <tr style=\"text-align: right;\">\n",
       "      <th></th>\n",
       "      <th>0</th>\n",
       "    </tr>\n",
       "  </thead>\n",
       "  <tbody>\n",
       "    <tr>\n",
       "      <th>crim</th>\n",
       "      <td>-9.331963</td>\n",
       "    </tr>\n",
       "    <tr>\n",
       "      <th>zn</th>\n",
       "      <td>6.418121</td>\n",
       "    </tr>\n",
       "    <tr>\n",
       "      <th>indus</th>\n",
       "      <td>1.071804</td>\n",
       "    </tr>\n",
       "    <tr>\n",
       "      <th>chas</th>\n",
       "      <td>2.756491</td>\n",
       "    </tr>\n",
       "    <tr>\n",
       "      <th>nox</th>\n",
       "      <td>-9.683294</td>\n",
       "    </tr>\n",
       "    <tr>\n",
       "      <th>rm</th>\n",
       "      <td>18.000341</td>\n",
       "    </tr>\n",
       "    <tr>\n",
       "      <th>age</th>\n",
       "      <td>0.578608</td>\n",
       "    </tr>\n",
       "    <tr>\n",
       "      <th>dis</th>\n",
       "      <td>-18.096179</td>\n",
       "    </tr>\n",
       "    <tr>\n",
       "      <th>rad</th>\n",
       "      <td>7.555506</td>\n",
       "    </tr>\n",
       "    <tr>\n",
       "      <th>tax</th>\n",
       "      <td>-6.895969</td>\n",
       "    </tr>\n",
       "    <tr>\n",
       "      <th>ptratio</th>\n",
       "      <td>-8.313876</td>\n",
       "    </tr>\n",
       "    <tr>\n",
       "      <th>black</th>\n",
       "      <td>3.665267</td>\n",
       "    </tr>\n",
       "    <tr>\n",
       "      <th>lstat</th>\n",
       "      <td>-19.719020</td>\n",
       "    </tr>\n",
       "  </tbody>\n",
       "</table>\n",
       "</div>"
      ],
      "text/plain": [
       "                 0\n",
       "crim     -9.331963\n",
       "zn        6.418121\n",
       "indus     1.071804\n",
       "chas      2.756491\n",
       "nox      -9.683294\n",
       "rm       18.000341\n",
       "age       0.578608\n",
       "dis     -18.096179\n",
       "rad       7.555506\n",
       "tax      -6.895969\n",
       "ptratio  -8.313876\n",
       "black     3.665267\n",
       "lstat   -19.719020"
      ]
     },
     "execution_count": 57,
     "metadata": {},
     "output_type": "execute_result"
    }
   ],
   "source": [
    "pd.DataFrame(li_rgr.coef_, index=feature.columns)"
   ]
  },
  {
   "cell_type": "markdown",
   "id": "6090464c",
   "metadata": {},
   "source": [
    "### sklearn.preprocessing.PolynomialFeatures \n",
    "\n",
    "* _class_ sklearn.preprocessing.PolynomialFeatures(_degree=2_, _*_, _interaction_only=False_, _include_bias=True_, _order='C'_)[[source]](https://github.com/scikit-learn/scikit-learn/blob/f3f51f9b6/sklearn/preprocessing/_polynomial.py#L30)[¶](https://scikit-learn.org/1.1/modules/generated/sklearn.preprocessing.PolynomialFeatures.html?highlight=poli#sklearn.preprocessing.PolynomialFeatures \"Permalink to this definition\")\n",
    "\n",
    "Parameters:\n",
    "degreeint or tuple (min_degree, max_degree), default=2\n",
    "If a single int is given, it specifies the maximal degree of the polynomial features. If a tuple (min_degree, max_degree) is passed, then min_degree is the minimum and max_degree is the maximum polynomial degree of the generated features. Note that min_degree=0 and min_degree=1 are equivalent as outputting the degree zero term is determined by include_bias.\n",
    "\n",
    "interaction_onlybool, default=False\n",
    "If True, only interaction features are produced: features that are products of at most degree distinct input features, i.e. terms with power of 2 or higher of the same input feature are excluded:\n",
    "\n",
    "included: x[0], x[1], x[0] * x[1], etc.\n",
    "\n",
    "excluded: x[0] ** 2, x[0] ** 2 * x[1], etc.\n",
    "\n",
    "include_biasbool, default=True\n",
    "If True (default), then include a bias column, the feature in which all polynomial powers are zero (i.e. a column of ones - acts as an intercept term in a linear model).\n",
    "\n",
    "order{‘C’, ‘F’}, default=’C’\n",
    "Order of output array in the dense case. 'F' order is faster to compute, but may slow down subsequent estimators.\n",
    "\n",
    "New in version 0.21.\n",
    "\n",
    "Attributes:\n",
    "powers_ndarray of shape (n_output_features_, n_features_in_)\n",
    "Exponent for each of the inputs in the output.\n",
    "\n",
    "n_input_features_int\n",
    "DEPRECATED: The attribute n_input_features_ was deprecated in version 1.0 and will be removed in 1.2.\n",
    "\n",
    "n_features_in_int\n",
    "Number of features seen during fit.\n",
    "\n",
    "New in version 0.24.\n",
    "\n",
    "feature_names_in_ndarray of shape (n_features_in_,)\n",
    "Names of features seen during fit. Defined only when X has feature names that are all strings.\n",
    "\n",
    "New in version 1.0.\n",
    "\n",
    "n_output_features_int\n",
    "The total number of polynomial output features. The number of output features is computed by iterating over all suitably sized combinations of input features."
   ]
  },
  {
   "cell_type": "code",
   "execution_count": 73,
   "id": "ea2b208a",
   "metadata": {
    "ExecuteTime": {
     "end_time": "2023-02-03T07:35:16.585215Z",
     "start_time": "2023-02-03T07:35:16.576688Z"
    }
   },
   "outputs": [
    {
     "name": "stdout",
     "output_type": "stream",
     "text": [
      "일차 다항식 계수 :  [[0 1]\n",
      " [2 3]\n",
      " [4 5]]\n",
      "2차 다항식 계수 :  [[ 1.  0.  1.  0.  0.  1.]\n",
      " [ 1.  2.  3.  4.  6.  9.]\n",
      " [ 1.  4.  5. 16. 20. 25.]]\n",
      "3차 다항식 계수 :  [[  1.   0.   1.   0.   0.   1.   0.   0.   0.   1.]\n",
      " [  1.   2.   3.   4.   6.   9.   8.  12.  18.  27.]\n",
      " [  1.   4.   5.  16.  20.  25.  64.  80. 100. 125.]]\n"
     ]
    }
   ],
   "source": [
    "from sklearn.preprocessing import PolynomialFeatures\n",
    "import numpy as np\n",
    "\n",
    "X = np.arange(6).reshape(3,2)\n",
    "print(\"일차 다항식 계수 : \",X)\n",
    "\n",
    "poly = PolynomialFeatures(degree=2)\n",
    "poly_ftr = poly.fit_transform(X)\n",
    "\n",
    "print(\"2차 다항식 계수 : \",poly_ftr)\n",
    "\n",
    "poly_3 = PolynomialFeatures(degree=3)\n",
    "poly_3_ftr = poly_3.fit_transform(X)\n",
    "print(\"3차 다항식 계수 : \", poly_3_ftr)"
   ]
  },
  {
   "cell_type": "markdown",
   "id": "4f53f9e9",
   "metadata": {},
   "source": [
    "### sklearn.pipeline.Pipeline\n",
    "\n",
    "_class_ sklearn.pipeline.Pipeline(_steps_,  _*_,  _memory=None_,  _verbose=False_)[[source]](https://github.com/scikit-learn/scikit-learn/blob/f3f51f9b6/sklearn/pipeline.py#L52)[](https://scikit-learn.org/1.1/modules/generated/sklearn.pipeline.Pipeline.html#sklearn.pipeline.Pipeline \"Permalink to this definition\")\n",
    "\n",
    "Parameters:\n",
    "\n",
    "**steps**list of tuple\n",
    "\n",
    "List of (name, transform) tuples (implementing  `fit`/`transform`) that are chained in sequential order. The last transform must be an estimator.\n",
    "\n",
    "**memory**str or object with the joblib.Memory interface, default=None\n",
    "\n",
    "Used to cache the fitted transformers of the pipeline. By default, no caching is performed. If a string is given, it is the path to the caching directory. Enabling caching triggers a clone of the transformers before fitting. Therefore, the transformer instance given to the pipeline cannot be inspected directly. Use the attribute  `named_steps`  or  `steps`  to inspect estimators within the pipeline. Caching the transformers is advantageous when fitting is time consuming.\n",
    "\n",
    "**verbose**bool, default=False\n",
    "\n",
    "If True, the time elapsed while fitting each step will be printed as it is completed.\n",
    "\n",
    "Attributes:\n",
    "\n",
    "[`named_steps`](https://scikit-learn.org/1.1/modules/generated/sklearn.pipeline.Pipeline.html#sklearn.pipeline.Pipeline.named_steps \"sklearn.pipeline.Pipeline.named_steps\")[`Bunch`](https://scikit-learn.org/1.1/modules/generated/sklearn.utils.Bunch.html#sklearn.utils.Bunch \"sklearn.utils.Bunch\")\n",
    "\n",
    "Access the steps by name.\n",
    "\n",
    "[`classes_`](https://scikit-learn.org/1.1/modules/generated/sklearn.pipeline.Pipeline.html#sklearn.pipeline.Pipeline.classes_ \"sklearn.pipeline.Pipeline.classes_\")ndarray of shape (n_classes,)\n",
    "\n",
    "The classes labels.\n",
    "\n",
    "[`n_features_in_`](https://scikit-learn.org/1.1/modules/generated/sklearn.pipeline.Pipeline.html#sklearn.pipeline.Pipeline.n_features_in_ \"sklearn.pipeline.Pipeline.n_features_in_\")int\n",
    "\n",
    "Number of features seen during first step  `fit`  method.\n",
    "\n",
    "[`feature_names_in_`](https://scikit-learn.org/1.1/modules/generated/sklearn.pipeline.Pipeline.html#sklearn.pipeline.Pipeline.feature_names_in_ \"sklearn.pipeline.Pipeline.feature_names_in_\")ndarray of shape (`n_features_in_`,)\n",
    "\n",
    "Names of features seen during first step  `fit`  method."
   ]
  },
  {
   "cell_type": "code",
   "execution_count": 81,
   "id": "e05145ef",
   "metadata": {
    "ExecuteTime": {
     "end_time": "2023-02-03T08:07:05.886322Z",
     "start_time": "2023-02-03T08:07:05.875360Z"
    }
   },
   "outputs": [
    {
     "data": {
      "text/plain": [
       "array([[0.        , 0.02252252, 0.02252252, 0.04504505, 0.06756757,\n",
       "        0.09009009, 0.09009009, 0.13513514, 0.2027027 , 0.29279279],\n",
       "       [0.        , 0.05405405, 0.05405405, 0.10810811, 0.16216216,\n",
       "        0.21621622, 0.21621622, 0.32432432, 0.48648649, 0.7027027 ]])"
      ]
     },
     "execution_count": 81,
     "metadata": {},
     "output_type": "execute_result"
    }
   ],
   "source": [
    "from sklearn.pipeline import Pipeline\n",
    "\n",
    "def polynomial_func(x):\n",
    "    y = 1 + 2*x + 2**x + x**3\n",
    "    return y\n",
    "\n",
    "model = Pipeline([(\"poly\", poly_3),\n",
    "                 (\"linear\", li_rgr)])\n",
    "\n",
    "x = np.arange(4).reshape(2,2)\n",
    "y = polynomial_func(x)\n",
    "\n",
    "model = model.fit(x,y)\n",
    "model.named_steps[\"linear\"].coef_"
   ]
  },
  {
   "cell_type": "code",
   "execution_count": null,
   "id": "fac57a8d",
   "metadata": {},
   "outputs": [],
   "source": []
  }
 ],
 "metadata": {
  "kernelspec": {
   "display_name": "Python 3 (ipykernel)",
   "language": "python",
   "name": "python3"
  },
  "language_info": {
   "codemirror_mode": {
    "name": "ipython",
    "version": 3
   },
   "file_extension": ".py",
   "mimetype": "text/x-python",
   "name": "python",
   "nbconvert_exporter": "python",
   "pygments_lexer": "ipython3",
   "version": "3.11.1"
  },
  "toc": {
   "base_numbering": 1,
   "nav_menu": {},
   "number_sections": true,
   "sideBar": true,
   "skip_h1_title": false,
   "title_cell": "Table of Contents",
   "title_sidebar": "Contents",
   "toc_cell": false,
   "toc_position": {},
   "toc_section_display": true,
   "toc_window_display": false
  },
  "varInspector": {
   "cols": {
    "lenName": 16,
    "lenType": 16,
    "lenVar": 40
   },
   "kernels_config": {
    "python": {
     "delete_cmd_postfix": "",
     "delete_cmd_prefix": "del ",
     "library": "var_list.py",
     "varRefreshCmd": "print(var_dic_list())"
    },
    "r": {
     "delete_cmd_postfix": ") ",
     "delete_cmd_prefix": "rm(",
     "library": "var_list.r",
     "varRefreshCmd": "cat(var_dic_list()) "
    }
   },
   "types_to_exclude": [
    "module",
    "function",
    "builtin_function_or_method",
    "instance",
    "_Feature"
   ],
   "window_display": false
  }
 },
 "nbformat": 4,
 "nbformat_minor": 5
}

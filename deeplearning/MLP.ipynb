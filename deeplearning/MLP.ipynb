{
 "cells": [
  {
   "cell_type": "code",
   "execution_count": 8,
   "id": "a6414906",
   "metadata": {
    "ExecuteTime": {
     "end_time": "2023-02-20T01:14:02.926864Z",
     "start_time": "2023-02-20T01:14:02.911459Z"
    }
   },
   "outputs": [
    {
     "name": "stdout",
     "output_type": "stream",
     "text": [
      "입력값 : (0, 0)출력값 : 0\n",
      "입력값 : (1, 0)출력값 : 1\n",
      "입력값 : (0, 1)출력값 : 1\n",
      "입력값 : (1, 1)출력값 : 0\n"
     ]
    }
   ],
   "source": [
    "import numpy as np\n",
    "\n",
    "w11 =np.array([-2,-2])\n",
    "w12 = np.array([2,2])\n",
    "w2 = np.array([1,1])\n",
    "b1 = 3\n",
    "b2 = -1\n",
    "b3 = -1\n",
    "\n",
    "def MLP(x,w,b):\n",
    "    y = np.sum(w *x) + b\n",
    "    if y <= 0:\n",
    "        return 0\n",
    "    else:\n",
    "        return 1\n",
    "    \n",
    "def NAND(x1,x2):\n",
    "    return MLP(np.array([x1,x2]), w11,b1)\n",
    "\n",
    "def OR(x1,x2):\n",
    "    return MLP(np.array([x1,x2]), w12, b2)\n",
    "\n",
    "def AND(x1,x2):\n",
    "    return MLP(np.array([x1,x2]), w2,b3)\n",
    "\n",
    "def XOR(x1,x2):\n",
    "    return AND(NAND(x1,x2),OR (x1,x2))\n",
    "\n",
    "for x in [(0,0), (1,0), (0,1), (1,1)]:\n",
    "    y = XOR(x[0], x[1])\n",
    "\n",
    "    print(\"입력값 : \" + str(x) + \"출력값 : \" + str(y))"
   ]
  },
  {
   "cell_type": "code",
   "execution_count": 10,
   "id": "9f9866a6",
   "metadata": {
    "ExecuteTime": {
     "end_time": "2023-02-20T02:15:28.539330Z",
     "start_time": "2023-02-20T02:15:28.522111Z"
    }
   },
   "outputs": [
    {
     "name": "stdout",
     "output_type": "stream",
     "text": [
      "손실 함수값( 3.9283368912632715 )= 10.861809383680356\n",
      "최소값 =  3.9283368912632715\n"
     ]
    }
   ],
   "source": [
    "x = 10 \n",
    "learning_rate = 0.01 \n",
    "precision = 0.00001 \n",
    "max_iterations = 100\n",
    "# 손실 함수를 람다식으로 정의한다. \n",
    "loss_func = lambda x: (x-3)**2 + 10\n",
    "# 그래디언트를 람다식으로 정의한다. 손실 함수의 1차 미분값이다. \n",
    "gradient = lambda x: 2*x-6\n",
    "# 그래디언트 강하법\n",
    "for i in range(max_iterations):\n",
    " x = x - learning_rate * gradient(x)\n",
    "print(\"손실 함수값(\", x, \")=\", loss_func(x))\n",
    "print(\"최소값 = \", x)\n"
   ]
  },
  {
   "cell_type": "code",
   "execution_count": null,
   "id": "38a8c9d2",
   "metadata": {},
   "outputs": [],
   "source": []
  }
 ],
 "metadata": {
  "kernelspec": {
   "display_name": "Python 3 (ipykernel)",
   "language": "python",
   "name": "python3"
  },
  "language_info": {
   "codemirror_mode": {
    "name": "ipython",
    "version": 3
   },
   "file_extension": ".py",
   "mimetype": "text/x-python",
   "name": "python",
   "nbconvert_exporter": "python",
   "pygments_lexer": "ipython3",
   "version": "3.11.1"
  },
  "toc": {
   "base_numbering": 1,
   "nav_menu": {},
   "number_sections": true,
   "sideBar": true,
   "skip_h1_title": false,
   "title_cell": "Table of Contents",
   "title_sidebar": "Contents",
   "toc_cell": false,
   "toc_position": {},
   "toc_section_display": true,
   "toc_window_display": false
  },
  "varInspector": {
   "cols": {
    "lenName": 16,
    "lenType": 16,
    "lenVar": 40
   },
   "kernels_config": {
    "python": {
     "delete_cmd_postfix": "",
     "delete_cmd_prefix": "del ",
     "library": "var_list.py",
     "varRefreshCmd": "print(var_dic_list())"
    },
    "r": {
     "delete_cmd_postfix": ") ",
     "delete_cmd_prefix": "rm(",
     "library": "var_list.r",
     "varRefreshCmd": "cat(var_dic_list()) "
    }
   },
   "types_to_exclude": [
    "module",
    "function",
    "builtin_function_or_method",
    "instance",
    "_Feature"
   ],
   "window_display": false
  }
 },
 "nbformat": 4,
 "nbformat_minor": 5
}

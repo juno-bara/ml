{
 "cells": [
  {
   "cell_type": "markdown",
   "id": "e0bc8817",
   "metadata": {},
   "source": [
    "### sklearn.tree.DecisionTreeClassifier\n",
    "\n",
    "* _lass_ sklearn.tree.DecisionTreeClassifier(_*_,  _criterion='gini'_,  _splitter='best'_,  _max_depth=None_,  _min_samples_split=2_,  _min_samples_leaf=1_,  _min_weight_fraction_leaf=0.0_,  _max_features=None_,  _random_state=None_,  _max_leaf_nodes=None_,  _min_impurity_decrease=0.0_,  _class_weight=None_,  _ccp_alpha=0.0_)[[source]](https://github.com/scikit-learn/scikit-learn/blob/f3f51f9b6/sklearn/tree/_classes.py#L674)[](https://scikit-learn.org/1.1/modules/generated/sklearn.tree.DecisionTreeClassifier.html?highlight=tree#sklearn.tree.DecisionTreeClassifier \"Permalink to this definition\")\n",
    "\n",
    "Parameters:\n",
    "\n",
    "**criterion**{“gini”, “entropy”, “log_loss”}, default=”gini”\n",
    "\n",
    "The function to measure the quality of a split. Supported criteria are “gini” for the Gini impurity and “log_loss” and “entropy” both for the Shannon information gain, see  [Mathematical formulation](https://scikit-learn.org/1.1/modules/tree.html#tree-mathematical-formulation).\n",
    "\n",
    "**splitter**{“best”, “random”}, default=”best”\n",
    "\n",
    "The strategy used to choose the split at each node. Supported strategies are “best” to choose the best split and “random” to choose the best random split.\n",
    "\n",
    "**max_depth**int, default=None\n",
    "\n",
    "The maximum depth of the tree. If None, then nodes are expanded until all leaves are pure or until all leaves contain less than min_samples_split samples.\n",
    "\n",
    "**min_samples_split**int or float, default=2\n",
    "\n",
    "The minimum number of samples required to split an internal node:\n",
    "\n",
    "-   If int, then consider  `min_samples_split`  as the minimum number.\n",
    "    \n",
    "-   If float, then  `min_samples_split`  is a fraction and  `ceil(min_samples_split  *  n_samples)`  are the minimum number of samples for each split.\n",
    "    \n",
    "\n",
    "Changed in version 0.18: Added float values for fractions.\n",
    "\n",
    "**min_samples_leaf**int or float, default=1\n",
    "\n",
    "The minimum number of samples required to be at a leaf node. A split point at any depth will only be considered if it leaves at least  `min_samples_leaf`  training samples in each of the left and right branches. This may have the effect of smoothing the model, especially in regression.\n",
    "\n",
    "-   If int, then consider  `min_samples_leaf`  as the minimum number.\n",
    "    \n",
    "-   If float, then  `min_samples_leaf`  is a fraction and  `ceil(min_samples_leaf  *  n_samples)`  are the minimum number of samples for each node.\n",
    "    \n",
    "\n",
    "Changed in version 0.18: Added float values for fractions.\n",
    "\n",
    "**min_weight_fraction_leaf**float, default=0.0\n",
    "\n",
    "The minimum weighted fraction of the sum total of weights (of all the input samples) required to be at a leaf node. Samples have equal weight when sample_weight is not provided.\n",
    "\n",
    "**max_features**int, float or {“auto”, “sqrt”, “log2”}, default=None\n",
    "\n",
    "The number of features to consider when looking for the best split:\n",
    "\n",
    "> -   If int, then consider  `max_features`  features at each split.\n",
    ">     \n",
    "> -   If float, then  `max_features`  is a fraction and  `max(1,  int(max_features  *  n_features_in_))`  features are considered at each split.\n",
    ">     \n",
    "> -   If “auto”, then  `max_features=sqrt(n_features)`.\n",
    ">     \n",
    "> -   If “sqrt”, then  `max_features=sqrt(n_features)`.\n",
    ">     \n",
    "> -   If “log2”, then  `max_features=log2(n_features)`.\n",
    ">     \n",
    "> -   If None, then  `max_features=n_features`.\n",
    ">     \n",
    "> \n",
    "> Deprecated since version 1.1: The  `\"auto\"`  option was deprecated in 1.1 and will be removed in 1.3.\n",
    "\n",
    "Note: the search for a split does not stop until at least one valid partition of the node samples is found, even if it requires to effectively inspect more than  `max_features`  features.\n",
    "\n",
    "**random_state**int, RandomState instance or None, default=None\n",
    "\n",
    "Controls the randomness of the estimator. The features are always randomly permuted at each split, even if  `splitter`  is set to  `\"best\"`. When  `max_features  <  n_features`, the algorithm will select  `max_features`  at random at each split before finding the best split among them. But the best found split may vary across different runs, even if  `max_features=n_features`. That is the case, if the improvement of the criterion is identical for several splits and one split has to be selected at random. To obtain a deterministic behaviour during fitting,  `random_state`  has to be fixed to an integer. See  [Glossary](https://scikit-learn.org/1.1/glossary.html#term-random_state)  for details.\n",
    "\n",
    "**max_leaf_nodes**int, default=None\n",
    "\n",
    "Grow a tree with  `max_leaf_nodes`  in best-first fashion. Best nodes are defined as relative reduction in impurity. If None then unlimited number of leaf nodes.\n",
    "\n",
    "**min_impurity_decrease**float, default=0.0\n",
    "\n",
    "A node will be split if this split induces a decrease of the impurity greater than or equal to this value.\n",
    "\n",
    "The weighted impurity decrease equation is the following:\n",
    "\n",
    "N_t / N * (impurity - N_t_R / N_t * right_impurity\n",
    "                    - N_t_L / N_t * left_impurity)\n",
    "\n",
    "where  `N`  is the total number of samples,  `N_t`  is the number of samples at the current node,  `N_t_L`  is the number of samples in the left child, and  `N_t_R`  is the number of samples in the right child.\n",
    "\n",
    "`N`,  `N_t`,  `N_t_R`  and  `N_t_L`  all refer to the weighted sum, if  `sample_weight`  is passed.\n",
    "\n",
    "New in version 0.19.\n",
    "\n",
    "**class_weight**dict, list of dict or “balanced”, default=None\n",
    "\n",
    "Weights associated with classes in the form  `{class_label:  weight}`. If None, all classes are supposed to have weight one. For multi-output problems, a list of dicts can be provided in the same order as the columns of y.\n",
    "\n",
    "Note that for multioutput (including multilabel) weights should be defined for each class of every column in its own dict. For example, for four-class multilabel classification weights should be [{0: 1, 1: 1}, {0: 1, 1: 5}, {0: 1, 1: 1}, {0: 1, 1: 1}] instead of [{1:1}, {2:5}, {3:1}, {4:1}].\n",
    "\n",
    "The “balanced” mode uses the values of y to automatically adjust weights inversely proportional to class frequencies in the input data as  `n_samples  /  (n_classes  *  np.bincount(y))`\n",
    "\n",
    "For multi-output, the weights of each column of y will be multiplied.\n",
    "\n",
    "Note that these weights will be multiplied with sample_weight (passed through the fit method) if sample_weight is specified.\n",
    "\n",
    "**ccp_alpha**non-negative float, default=0.0\n",
    "\n",
    "Complexity parameter used for Minimal Cost-Complexity Pruning. The subtree with the largest cost complexity that is smaller than  `ccp_alpha`  will be chosen. By default, no pruning is performed. See  [Minimal Cost-Complexity Pruning](https://scikit-learn.org/1.1/modules/tree.html#minimal-cost-complexity-pruning)  for details.\n",
    "\n",
    "New in version 0.22.\n",
    "\n",
    "\n",
    "Attributes:\n",
    "[`feature_importances_`](https://scikit-learn.org/1.1/modules/generated/sklearn.tree.DecisionTreeClassifier.html?highlight=tree#sklearn.tree.DecisionTreeClassifier.feature_importances_ \"sklearn.tree.DecisionTreeClassifier.feature_importances_\")ndarray of shape (n_features,)\n",
    "\n",
    "Return the feature importances."
   ]
  },
  {
   "cell_type": "code",
   "execution_count": 2,
   "id": "aa56408e",
   "metadata": {
    "ExecuteTime": {
     "end_time": "2023-02-01T05:16:11.577789Z",
     "start_time": "2023-02-01T05:16:11.564008Z"
    }
   },
   "outputs": [
    {
     "data": {
      "text/plain": [
       "0.9333333333333333"
      ]
     },
     "execution_count": 2,
     "metadata": {},
     "output_type": "execute_result"
    }
   ],
   "source": [
    "from sklearn.datasets import load_iris\n",
    "from sklearn.tree import DecisionTreeClassifier\n",
    "from sklearn.model_selection import train_test_split\n",
    "from sklearn.metrics import accuracy_score\n",
    "import pandas as pd\n",
    "\n",
    "iris = load_iris()\n",
    "dt_clf = DecisionTreeClassifier(random_state=156)\n",
    "feature = iris.data\n",
    "label = iris.target\n",
    "\n",
    "\n",
    "\n",
    "x_train, x_test, y_train, y_test = train_test_split(feature,label,test_size=0.2,random_state=15)\n",
    "dt_clf.fit(x_train,y_train)\n",
    "dt_pred = dt_clf.predict(x_test)\n",
    "\n",
    "accuracy = accuracy_score(y_test,dt_pred)\n",
    "accuracy"
   ]
  },
  {
   "cell_type": "code",
   "execution_count": 3,
   "id": "6e49b9f6",
   "metadata": {
    "ExecuteTime": {
     "end_time": "2023-02-01T05:16:12.294664Z",
     "start_time": "2023-02-01T05:16:12.285430Z"
    }
   },
   "outputs": [
    {
     "data": {
      "text/plain": [
       "0.9333333333333333"
      ]
     },
     "execution_count": 3,
     "metadata": {},
     "output_type": "execute_result"
    }
   ],
   "source": [
    "dt_clf_3 = DecisionTreeClassifier(random_state=156,max_depth=3)\n",
    "\n",
    "\n",
    "dt_clf.fit(x_train,y_train)\n",
    "dt_pred = dt_clf.predict(x_test)\n",
    "\n",
    "accuracy = accuracy_score(y_test,dt_pred)\n",
    "accuracy"
   ]
  },
  {
   "cell_type": "code",
   "execution_count": 4,
   "id": "b9bcdefa",
   "metadata": {
    "ExecuteTime": {
     "end_time": "2023-02-01T05:16:12.729151Z",
     "start_time": "2023-02-01T05:16:12.723454Z"
    }
   },
   "outputs": [
    {
     "data": {
      "text/plain": [
       "array([0.02432118, 0.01251826, 0.56069779, 0.40246277])"
      ]
     },
     "execution_count": 4,
     "metadata": {},
     "output_type": "execute_result"
    }
   ],
   "source": [
    "dt_clf.feature_importances_"
   ]
  },
  {
   "cell_type": "markdown",
   "id": "1c535875",
   "metadata": {},
   "source": [
    "### export_graphviz\n",
    "\n",
    "*sklearn.tree.export_graphviz(_decision_tree_, _out_file=None_, _*_, _max_depth=None_, _feature_names=None_, _class_names=None_, _label='all'_, _filled=False_, _leaves_parallel=False_, _impurity=True_, _node_ids=False_, _proportion=False_, _rotate=False_, _rounded=False_, _special_characters=False_, _precision=3_, _fontname='helvetica'_)[[source]](https://github.com/scikit-learn/scikit-learn/blob/f3f51f9b6/sklearn/tree/_export.py#L741)[¶](https://scikit-learn.org/1.1/modules/generated/sklearn.tree.export_graphviz.html?highlight=export_graphviz#sklearn.tree.export_graphviz \"Permalink to this definition\")\n",
    "\n"
   ]
  },
  {
   "cell_type": "code",
   "execution_count": 5,
   "id": "dd67b570",
   "metadata": {
    "ExecuteTime": {
     "end_time": "2023-02-01T05:16:13.324650Z",
     "start_time": "2023-02-01T05:16:13.315262Z"
    }
   },
   "outputs": [],
   "source": [
    "from sklearn.tree import export_graphviz\n",
    "\n",
    "# export_graohviz() 호출결과로 out_file로 지정된 tree.dot파일 생성\n",
    "export_graphviz(dt_clf,out_file=\"tree.dot\",class_names=iris.target_names,\n",
    "               feature_names=iris.feature_names,impurity=True,filled=True)"
   ]
  },
  {
   "cell_type": "code",
   "execution_count": 9,
   "id": "a48012ca",
   "metadata": {
    "ExecuteTime": {
     "end_time": "2023-02-01T05:16:50.764919Z",
     "start_time": "2023-02-01T05:16:50.567353Z"
    }
   },
   "outputs": [
    {
     "data": {
      "image/svg+xml": [
       "<?xml version=\"1.0\" encoding=\"UTF-8\" standalone=\"no\"?>\n",
       "<!DOCTYPE svg PUBLIC \"-//W3C//DTD SVG 1.1//EN\"\n",
       " \"http://www.w3.org/Graphics/SVG/1.1/DTD/svg11.dtd\">\n",
       "<!-- Generated by graphviz version 7.1.0 (20230121.1956)\n",
       " -->\n",
       "<!-- Title: Tree Pages: 1 -->\n",
       "<svg width=\"848pt\" height=\"552pt\"\n",
       " viewBox=\"0.00 0.00 847.50 552.00\" xmlns=\"http://www.w3.org/2000/svg\" xmlns:xlink=\"http://www.w3.org/1999/xlink\">\n",
       "<g id=\"graph0\" class=\"graph\" transform=\"scale(1 1) rotate(0) translate(4 548)\">\n",
       "<title>Tree</title>\n",
       "<polygon fill=\"white\" stroke=\"none\" points=\"-4,4 -4,-548 843.5,-548 843.5,4 -4,4\"/>\n",
       "<!-- 0 -->\n",
       "<g id=\"node1\" class=\"node\">\n",
       "<title>0</title>\n",
       "<polygon fill=\"#fffdfc\" stroke=\"black\" points=\"513,-544 347,-544 347,-461 513,-461 513,-544\"/>\n",
       "<text text-anchor=\"middle\" x=\"430\" y=\"-528.8\" font-family=\"Helvetica,sans-Serif\" font-size=\"14.00\">petal length (cm) &lt;= 2.6</text>\n",
       "<text text-anchor=\"middle\" x=\"430\" y=\"-513.8\" font-family=\"Helvetica,sans-Serif\" font-size=\"14.00\">gini = 0.666</text>\n",
       "<text text-anchor=\"middle\" x=\"430\" y=\"-498.8\" font-family=\"Helvetica,sans-Serif\" font-size=\"14.00\">samples = 120</text>\n",
       "<text text-anchor=\"middle\" x=\"430\" y=\"-483.8\" font-family=\"Helvetica,sans-Serif\" font-size=\"14.00\">value = [42, 37, 41]</text>\n",
       "<text text-anchor=\"middle\" x=\"430\" y=\"-468.8\" font-family=\"Helvetica,sans-Serif\" font-size=\"14.00\">class = setosa</text>\n",
       "</g>\n",
       "<!-- 1 -->\n",
       "<g id=\"node2\" class=\"node\">\n",
       "<title>1</title>\n",
       "<polygon fill=\"#e58139\" stroke=\"black\" points=\"409.5,-417.5 288.5,-417.5 288.5,-349.5 409.5,-349.5 409.5,-417.5\"/>\n",
       "<text text-anchor=\"middle\" x=\"349\" y=\"-402.3\" font-family=\"Helvetica,sans-Serif\" font-size=\"14.00\">gini = 0.0</text>\n",
       "<text text-anchor=\"middle\" x=\"349\" y=\"-387.3\" font-family=\"Helvetica,sans-Serif\" font-size=\"14.00\">samples = 42</text>\n",
       "<text text-anchor=\"middle\" x=\"349\" y=\"-372.3\" font-family=\"Helvetica,sans-Serif\" font-size=\"14.00\">value = [42, 0, 0]</text>\n",
       "<text text-anchor=\"middle\" x=\"349\" y=\"-357.3\" font-family=\"Helvetica,sans-Serif\" font-size=\"14.00\">class = setosa</text>\n",
       "</g>\n",
       "<!-- 0&#45;&gt;1 -->\n",
       "<g id=\"edge1\" class=\"edge\">\n",
       "<title>0&#45;&gt;1</title>\n",
       "<path fill=\"none\" stroke=\"black\" d=\"M401.67,-460.58C394.19,-449.77 386.1,-438.09 378.56,-427.19\"/>\n",
       "<polygon fill=\"black\" stroke=\"black\" points=\"381.53,-425.34 372.96,-419.11 375.77,-429.32 381.53,-425.34\"/>\n",
       "<text text-anchor=\"middle\" x=\"367.62\" y=\"-438.76\" font-family=\"Helvetica,sans-Serif\" font-size=\"14.00\">True</text>\n",
       "</g>\n",
       "<!-- 2 -->\n",
       "<g id=\"node3\" class=\"node\">\n",
       "<title>2</title>\n",
       "<polygon fill=\"#f3ecfc\" stroke=\"black\" points=\"596,-425 428,-425 428,-342 596,-342 596,-425\"/>\n",
       "<text text-anchor=\"middle\" x=\"512\" y=\"-409.8\" font-family=\"Helvetica,sans-Serif\" font-size=\"14.00\">petal width (cm) &lt;= 1.75</text>\n",
       "<text text-anchor=\"middle\" x=\"512\" y=\"-394.8\" font-family=\"Helvetica,sans-Serif\" font-size=\"14.00\">gini = 0.499</text>\n",
       "<text text-anchor=\"middle\" x=\"512\" y=\"-379.8\" font-family=\"Helvetica,sans-Serif\" font-size=\"14.00\">samples = 78</text>\n",
       "<text text-anchor=\"middle\" x=\"512\" y=\"-364.8\" font-family=\"Helvetica,sans-Serif\" font-size=\"14.00\">value = [0, 37, 41]</text>\n",
       "<text text-anchor=\"middle\" x=\"512\" y=\"-349.8\" font-family=\"Helvetica,sans-Serif\" font-size=\"14.00\">class = virginica</text>\n",
       "</g>\n",
       "<!-- 0&#45;&gt;2 -->\n",
       "<g id=\"edge2\" class=\"edge\">\n",
       "<title>0&#45;&gt;2</title>\n",
       "<path fill=\"none\" stroke=\"black\" d=\"M458.68,-460.58C464.58,-452.16 470.86,-443.2 476.96,-434.5\"/>\n",
       "<polygon fill=\"black\" stroke=\"black\" points=\"479.73,-436.64 482.61,-426.44 474,-432.62 479.73,-436.64\"/>\n",
       "<text text-anchor=\"middle\" x=\"487.81\" y=\"-446.12\" font-family=\"Helvetica,sans-Serif\" font-size=\"14.00\">False</text>\n",
       "</g>\n",
       "<!-- 3 -->\n",
       "<g id=\"node4\" class=\"node\">\n",
       "<title>3</title>\n",
       "<polygon fill=\"#4fe88f\" stroke=\"black\" points=\"494,-306 320,-306 320,-223 494,-223 494,-306\"/>\n",
       "<text text-anchor=\"middle\" x=\"407\" y=\"-290.8\" font-family=\"Helvetica,sans-Serif\" font-size=\"14.00\">petal length (cm) &lt;= 4.95</text>\n",
       "<text text-anchor=\"middle\" x=\"407\" y=\"-275.8\" font-family=\"Helvetica,sans-Serif\" font-size=\"14.00\">gini = 0.18</text>\n",
       "<text text-anchor=\"middle\" x=\"407\" y=\"-260.8\" font-family=\"Helvetica,sans-Serif\" font-size=\"14.00\">samples = 40</text>\n",
       "<text text-anchor=\"middle\" x=\"407\" y=\"-245.8\" font-family=\"Helvetica,sans-Serif\" font-size=\"14.00\">value = [0, 36, 4]</text>\n",
       "<text text-anchor=\"middle\" x=\"407\" y=\"-230.8\" font-family=\"Helvetica,sans-Serif\" font-size=\"14.00\">class = versicolor</text>\n",
       "</g>\n",
       "<!-- 2&#45;&gt;3 -->\n",
       "<g id=\"edge3\" class=\"edge\">\n",
       "<title>2&#45;&gt;3</title>\n",
       "<path fill=\"none\" stroke=\"black\" d=\"M475.28,-341.58C467.48,-332.89 459.17,-323.63 451.13,-314.67\"/>\n",
       "<polygon fill=\"black\" stroke=\"black\" points=\"453.82,-312.43 444.54,-307.33 448.61,-317.11 453.82,-312.43\"/>\n",
       "</g>\n",
       "<!-- 10 -->\n",
       "<g id=\"node11\" class=\"node\">\n",
       "<title>10</title>\n",
       "<polygon fill=\"#843ee6\" stroke=\"black\" points=\"705,-306 531,-306 531,-223 705,-223 705,-306\"/>\n",
       "<text text-anchor=\"middle\" x=\"618\" y=\"-290.8\" font-family=\"Helvetica,sans-Serif\" font-size=\"14.00\">petal length (cm) &lt;= 4.85</text>\n",
       "<text text-anchor=\"middle\" x=\"618\" y=\"-275.8\" font-family=\"Helvetica,sans-Serif\" font-size=\"14.00\">gini = 0.051</text>\n",
       "<text text-anchor=\"middle\" x=\"618\" y=\"-260.8\" font-family=\"Helvetica,sans-Serif\" font-size=\"14.00\">samples = 38</text>\n",
       "<text text-anchor=\"middle\" x=\"618\" y=\"-245.8\" font-family=\"Helvetica,sans-Serif\" font-size=\"14.00\">value = [0, 1, 37]</text>\n",
       "<text text-anchor=\"middle\" x=\"618\" y=\"-230.8\" font-family=\"Helvetica,sans-Serif\" font-size=\"14.00\">class = virginica</text>\n",
       "</g>\n",
       "<!-- 2&#45;&gt;10 -->\n",
       "<g id=\"edge10\" class=\"edge\">\n",
       "<title>2&#45;&gt;10</title>\n",
       "<path fill=\"none\" stroke=\"black\" d=\"M549.07,-341.58C556.95,-332.89 565.33,-323.63 573.45,-314.67\"/>\n",
       "<polygon fill=\"black\" stroke=\"black\" points=\"575.99,-317.08 580.11,-307.32 570.8,-312.38 575.99,-317.08\"/>\n",
       "</g>\n",
       "<!-- 4 -->\n",
       "<g id=\"node5\" class=\"node\">\n",
       "<title>4</title>\n",
       "<polygon fill=\"#3fe685\" stroke=\"black\" points=\"287,-187 109,-187 109,-104 287,-104 287,-187\"/>\n",
       "<text text-anchor=\"middle\" x=\"198\" y=\"-171.8\" font-family=\"Helvetica,sans-Serif\" font-size=\"14.00\">sepal length (cm) &lt;= 4.95</text>\n",
       "<text text-anchor=\"middle\" x=\"198\" y=\"-156.8\" font-family=\"Helvetica,sans-Serif\" font-size=\"14.00\">gini = 0.056</text>\n",
       "<text text-anchor=\"middle\" x=\"198\" y=\"-141.8\" font-family=\"Helvetica,sans-Serif\" font-size=\"14.00\">samples = 35</text>\n",
       "<text text-anchor=\"middle\" x=\"198\" y=\"-126.8\" font-family=\"Helvetica,sans-Serif\" font-size=\"14.00\">value = [0, 34, 1]</text>\n",
       "<text text-anchor=\"middle\" x=\"198\" y=\"-111.8\" font-family=\"Helvetica,sans-Serif\" font-size=\"14.00\">class = versicolor</text>\n",
       "</g>\n",
       "<!-- 3&#45;&gt;4 -->\n",
       "<g id=\"edge4\" class=\"edge\">\n",
       "<title>3&#45;&gt;4</title>\n",
       "<path fill=\"none\" stroke=\"black\" d=\"M333.9,-222.58C316.72,-212.96 298.29,-202.64 280.72,-192.81\"/>\n",
       "<polygon fill=\"black\" stroke=\"black\" points=\"282.81,-189.97 272.38,-188.14 279.39,-196.08 282.81,-189.97\"/>\n",
       "</g>\n",
       "<!-- 7 -->\n",
       "<g id=\"node8\" class=\"node\">\n",
       "<title>7</title>\n",
       "<polygon fill=\"#d5bdf6\" stroke=\"black\" points=\"491,-187 323,-187 323,-104 491,-104 491,-187\"/>\n",
       "<text text-anchor=\"middle\" x=\"407\" y=\"-171.8\" font-family=\"Helvetica,sans-Serif\" font-size=\"14.00\">petal width (cm) &lt;= 1.55</text>\n",
       "<text text-anchor=\"middle\" x=\"407\" y=\"-156.8\" font-family=\"Helvetica,sans-Serif\" font-size=\"14.00\">gini = 0.48</text>\n",
       "<text text-anchor=\"middle\" x=\"407\" y=\"-141.8\" font-family=\"Helvetica,sans-Serif\" font-size=\"14.00\">samples = 5</text>\n",
       "<text text-anchor=\"middle\" x=\"407\" y=\"-126.8\" font-family=\"Helvetica,sans-Serif\" font-size=\"14.00\">value = [0, 2, 3]</text>\n",
       "<text text-anchor=\"middle\" x=\"407\" y=\"-111.8\" font-family=\"Helvetica,sans-Serif\" font-size=\"14.00\">class = virginica</text>\n",
       "</g>\n",
       "<!-- 3&#45;&gt;7 -->\n",
       "<g id=\"edge7\" class=\"edge\">\n",
       "<title>3&#45;&gt;7</title>\n",
       "<path fill=\"none\" stroke=\"black\" d=\"M407,-222.58C407,-214.79 407,-206.53 407,-198.45\"/>\n",
       "<polygon fill=\"black\" stroke=\"black\" points=\"410.5,-198.71 407,-188.71 403.5,-198.71 410.5,-198.71\"/>\n",
       "</g>\n",
       "<!-- 5 -->\n",
       "<g id=\"node6\" class=\"node\">\n",
       "<title>5</title>\n",
       "<polygon fill=\"#8139e5\" stroke=\"black\" points=\"116,-68 0,-68 0,0 116,0 116,-68\"/>\n",
       "<text text-anchor=\"middle\" x=\"58\" y=\"-52.8\" font-family=\"Helvetica,sans-Serif\" font-size=\"14.00\">gini = 0.0</text>\n",
       "<text text-anchor=\"middle\" x=\"58\" y=\"-37.8\" font-family=\"Helvetica,sans-Serif\" font-size=\"14.00\">samples = 1</text>\n",
       "<text text-anchor=\"middle\" x=\"58\" y=\"-22.8\" font-family=\"Helvetica,sans-Serif\" font-size=\"14.00\">value = [0, 0, 1]</text>\n",
       "<text text-anchor=\"middle\" x=\"58\" y=\"-7.8\" font-family=\"Helvetica,sans-Serif\" font-size=\"14.00\">class = virginica</text>\n",
       "</g>\n",
       "<!-- 4&#45;&gt;5 -->\n",
       "<g id=\"edge5\" class=\"edge\">\n",
       "<title>4&#45;&gt;5</title>\n",
       "<path fill=\"none\" stroke=\"black\" d=\"M145.87,-103.73C133.97,-94.42 121.34,-84.54 109.48,-75.26\"/>\n",
       "<polygon fill=\"black\" stroke=\"black\" points=\"111.8,-72.64 101.77,-69.23 107.49,-78.15 111.8,-72.64\"/>\n",
       "</g>\n",
       "<!-- 6 -->\n",
       "<g id=\"node7\" class=\"node\">\n",
       "<title>6</title>\n",
       "<polygon fill=\"#39e581\" stroke=\"black\" points=\"261.5,-68 134.5,-68 134.5,0 261.5,0 261.5,-68\"/>\n",
       "<text text-anchor=\"middle\" x=\"198\" y=\"-52.8\" font-family=\"Helvetica,sans-Serif\" font-size=\"14.00\">gini = 0.0</text>\n",
       "<text text-anchor=\"middle\" x=\"198\" y=\"-37.8\" font-family=\"Helvetica,sans-Serif\" font-size=\"14.00\">samples = 34</text>\n",
       "<text text-anchor=\"middle\" x=\"198\" y=\"-22.8\" font-family=\"Helvetica,sans-Serif\" font-size=\"14.00\">value = [0, 34, 0]</text>\n",
       "<text text-anchor=\"middle\" x=\"198\" y=\"-7.8\" font-family=\"Helvetica,sans-Serif\" font-size=\"14.00\">class = versicolor</text>\n",
       "</g>\n",
       "<!-- 4&#45;&gt;6 -->\n",
       "<g id=\"edge6\" class=\"edge\">\n",
       "<title>4&#45;&gt;6</title>\n",
       "<path fill=\"none\" stroke=\"black\" d=\"M198,-103.73C198,-95.88 198,-87.63 198,-79.67\"/>\n",
       "<polygon fill=\"black\" stroke=\"black\" points=\"201.5,-79.81 198,-69.81 194.5,-79.81 201.5,-79.81\"/>\n",
       "</g>\n",
       "<!-- 8 -->\n",
       "<g id=\"node9\" class=\"node\">\n",
       "<title>8</title>\n",
       "<polygon fill=\"#8139e5\" stroke=\"black\" points=\"396,-68 280,-68 280,0 396,0 396,-68\"/>\n",
       "<text text-anchor=\"middle\" x=\"338\" y=\"-52.8\" font-family=\"Helvetica,sans-Serif\" font-size=\"14.00\">gini = 0.0</text>\n",
       "<text text-anchor=\"middle\" x=\"338\" y=\"-37.8\" font-family=\"Helvetica,sans-Serif\" font-size=\"14.00\">samples = 3</text>\n",
       "<text text-anchor=\"middle\" x=\"338\" y=\"-22.8\" font-family=\"Helvetica,sans-Serif\" font-size=\"14.00\">value = [0, 0, 3]</text>\n",
       "<text text-anchor=\"middle\" x=\"338\" y=\"-7.8\" font-family=\"Helvetica,sans-Serif\" font-size=\"14.00\">class = virginica</text>\n",
       "</g>\n",
       "<!-- 7&#45;&gt;8 -->\n",
       "<g id=\"edge8\" class=\"edge\">\n",
       "<title>7&#45;&gt;8</title>\n",
       "<path fill=\"none\" stroke=\"black\" d=\"M381.31,-103.73C376.02,-95.34 370.44,-86.47 365.1,-78.01\"/>\n",
       "<polygon fill=\"black\" stroke=\"black\" points=\"368.08,-76.17 359.79,-69.58 362.16,-79.91 368.08,-76.17\"/>\n",
       "</g>\n",
       "<!-- 9 -->\n",
       "<g id=\"node10\" class=\"node\">\n",
       "<title>9</title>\n",
       "<polygon fill=\"#39e581\" stroke=\"black\" points=\"541.5,-68 414.5,-68 414.5,0 541.5,0 541.5,-68\"/>\n",
       "<text text-anchor=\"middle\" x=\"478\" y=\"-52.8\" font-family=\"Helvetica,sans-Serif\" font-size=\"14.00\">gini = 0.0</text>\n",
       "<text text-anchor=\"middle\" x=\"478\" y=\"-37.8\" font-family=\"Helvetica,sans-Serif\" font-size=\"14.00\">samples = 2</text>\n",
       "<text text-anchor=\"middle\" x=\"478\" y=\"-22.8\" font-family=\"Helvetica,sans-Serif\" font-size=\"14.00\">value = [0, 2, 0]</text>\n",
       "<text text-anchor=\"middle\" x=\"478\" y=\"-7.8\" font-family=\"Helvetica,sans-Serif\" font-size=\"14.00\">class = versicolor</text>\n",
       "</g>\n",
       "<!-- 7&#45;&gt;9 -->\n",
       "<g id=\"edge9\" class=\"edge\">\n",
       "<title>7&#45;&gt;9</title>\n",
       "<path fill=\"none\" stroke=\"black\" d=\"M433.44,-103.73C438.94,-95.24 444.75,-86.28 450.29,-77.73\"/>\n",
       "<polygon fill=\"black\" stroke=\"black\" points=\"453.08,-79.86 455.59,-69.57 447.21,-76.06 453.08,-79.86\"/>\n",
       "</g>\n",
       "<!-- 11 -->\n",
       "<g id=\"node12\" class=\"node\">\n",
       "<title>11</title>\n",
       "<polygon fill=\"#ffffff\" stroke=\"black\" points=\"700,-187 536,-187 536,-104 700,-104 700,-187\"/>\n",
       "<text text-anchor=\"middle\" x=\"618\" y=\"-171.8\" font-family=\"Helvetica,sans-Serif\" font-size=\"14.00\">sepal width (cm) &lt;= 3.1</text>\n",
       "<text text-anchor=\"middle\" x=\"618\" y=\"-156.8\" font-family=\"Helvetica,sans-Serif\" font-size=\"14.00\">gini = 0.5</text>\n",
       "<text text-anchor=\"middle\" x=\"618\" y=\"-141.8\" font-family=\"Helvetica,sans-Serif\" font-size=\"14.00\">samples = 2</text>\n",
       "<text text-anchor=\"middle\" x=\"618\" y=\"-126.8\" font-family=\"Helvetica,sans-Serif\" font-size=\"14.00\">value = [0, 1, 1]</text>\n",
       "<text text-anchor=\"middle\" x=\"618\" y=\"-111.8\" font-family=\"Helvetica,sans-Serif\" font-size=\"14.00\">class = versicolor</text>\n",
       "</g>\n",
       "<!-- 10&#45;&gt;11 -->\n",
       "<g id=\"edge11\" class=\"edge\">\n",
       "<title>10&#45;&gt;11</title>\n",
       "<path fill=\"none\" stroke=\"black\" d=\"M618,-222.58C618,-214.79 618,-206.53 618,-198.45\"/>\n",
       "<polygon fill=\"black\" stroke=\"black\" points=\"621.5,-198.71 618,-188.71 614.5,-198.71 621.5,-198.71\"/>\n",
       "</g>\n",
       "<!-- 14 -->\n",
       "<g id=\"node15\" class=\"node\">\n",
       "<title>14</title>\n",
       "<polygon fill=\"#8139e5\" stroke=\"black\" points=\"839.5,-179.5 718.5,-179.5 718.5,-111.5 839.5,-111.5 839.5,-179.5\"/>\n",
       "<text text-anchor=\"middle\" x=\"779\" y=\"-164.3\" font-family=\"Helvetica,sans-Serif\" font-size=\"14.00\">gini = 0.0</text>\n",
       "<text text-anchor=\"middle\" x=\"779\" y=\"-149.3\" font-family=\"Helvetica,sans-Serif\" font-size=\"14.00\">samples = 36</text>\n",
       "<text text-anchor=\"middle\" x=\"779\" y=\"-134.3\" font-family=\"Helvetica,sans-Serif\" font-size=\"14.00\">value = [0, 0, 36]</text>\n",
       "<text text-anchor=\"middle\" x=\"779\" y=\"-119.3\" font-family=\"Helvetica,sans-Serif\" font-size=\"14.00\">class = virginica</text>\n",
       "</g>\n",
       "<!-- 10&#45;&gt;14 -->\n",
       "<g id=\"edge14\" class=\"edge\">\n",
       "<title>10&#45;&gt;14</title>\n",
       "<path fill=\"none\" stroke=\"black\" d=\"M674.31,-222.58C690.38,-210.9 707.87,-198.19 723.87,-186.57\"/>\n",
       "<polygon fill=\"black\" stroke=\"black\" points=\"725.84,-189.46 731.87,-180.75 721.72,-183.8 725.84,-189.46\"/>\n",
       "</g>\n",
       "<!-- 12 -->\n",
       "<g id=\"node13\" class=\"node\">\n",
       "<title>12</title>\n",
       "<polygon fill=\"#8139e5\" stroke=\"black\" points=\"676,-68 560,-68 560,0 676,0 676,-68\"/>\n",
       "<text text-anchor=\"middle\" x=\"618\" y=\"-52.8\" font-family=\"Helvetica,sans-Serif\" font-size=\"14.00\">gini = 0.0</text>\n",
       "<text text-anchor=\"middle\" x=\"618\" y=\"-37.8\" font-family=\"Helvetica,sans-Serif\" font-size=\"14.00\">samples = 1</text>\n",
       "<text text-anchor=\"middle\" x=\"618\" y=\"-22.8\" font-family=\"Helvetica,sans-Serif\" font-size=\"14.00\">value = [0, 0, 1]</text>\n",
       "<text text-anchor=\"middle\" x=\"618\" y=\"-7.8\" font-family=\"Helvetica,sans-Serif\" font-size=\"14.00\">class = virginica</text>\n",
       "</g>\n",
       "<!-- 11&#45;&gt;12 -->\n",
       "<g id=\"edge12\" class=\"edge\">\n",
       "<title>11&#45;&gt;12</title>\n",
       "<path fill=\"none\" stroke=\"black\" d=\"M618,-103.73C618,-95.88 618,-87.63 618,-79.67\"/>\n",
       "<polygon fill=\"black\" stroke=\"black\" points=\"621.5,-79.81 618,-69.81 614.5,-79.81 621.5,-79.81\"/>\n",
       "</g>\n",
       "<!-- 13 -->\n",
       "<g id=\"node14\" class=\"node\">\n",
       "<title>13</title>\n",
       "<polygon fill=\"#39e581\" stroke=\"black\" points=\"821.5,-68 694.5,-68 694.5,0 821.5,0 821.5,-68\"/>\n",
       "<text text-anchor=\"middle\" x=\"758\" y=\"-52.8\" font-family=\"Helvetica,sans-Serif\" font-size=\"14.00\">gini = 0.0</text>\n",
       "<text text-anchor=\"middle\" x=\"758\" y=\"-37.8\" font-family=\"Helvetica,sans-Serif\" font-size=\"14.00\">samples = 1</text>\n",
       "<text text-anchor=\"middle\" x=\"758\" y=\"-22.8\" font-family=\"Helvetica,sans-Serif\" font-size=\"14.00\">value = [0, 1, 0]</text>\n",
       "<text text-anchor=\"middle\" x=\"758\" y=\"-7.8\" font-family=\"Helvetica,sans-Serif\" font-size=\"14.00\">class = versicolor</text>\n",
       "</g>\n",
       "<!-- 11&#45;&gt;13 -->\n",
       "<g id=\"edge13\" class=\"edge\">\n",
       "<title>11&#45;&gt;13</title>\n",
       "<path fill=\"none\" stroke=\"black\" d=\"M670.13,-103.73C682.03,-94.42 694.66,-84.54 706.52,-75.26\"/>\n",
       "<polygon fill=\"black\" stroke=\"black\" points=\"708.51,-78.15 714.23,-69.23 704.2,-72.64 708.51,-78.15\"/>\n",
       "</g>\n",
       "</g>\n",
       "</svg>\n"
      ],
      "text/plain": [
       "<graphviz.sources.Source at 0x1fad4b5e110>"
      ]
     },
     "execution_count": 9,
     "metadata": {},
     "output_type": "execute_result"
    }
   ],
   "source": [
    "import graphviz\n",
    "\n",
    "with open(\"tree.dot\") as f :\n",
    "    dot_graph = f.read()\n",
    "graphviz.Source(dot_graph)\n"
   ]
  },
  {
   "cell_type": "code",
   "execution_count": 10,
   "id": "3f2ce90d",
   "metadata": {
    "ExecuteTime": {
     "end_time": "2023-02-01T05:20:26.595958Z",
     "start_time": "2023-02-01T05:20:26.591046Z"
    }
   },
   "outputs": [],
   "source": [
    "graph = graphviz.Source(dot_graph)"
   ]
  },
  {
   "cell_type": "code",
   "execution_count": 11,
   "id": "ee1be196",
   "metadata": {
    "ExecuteTime": {
     "end_time": "2023-02-01T05:21:38.649655Z",
     "start_time": "2023-02-01T05:21:38.430838Z"
    }
   },
   "outputs": [
    {
     "data": {
      "text/plain": [
       "'decisiontree_img.png'"
      ]
     },
     "execution_count": 11,
     "metadata": {},
     "output_type": "execute_result"
    }
   ],
   "source": [
    "graph.render(filename='decisiontree_img', directory='./', format='png')\n"
   ]
  },
  {
   "cell_type": "code",
   "execution_count": null,
   "id": "68a537c8",
   "metadata": {},
   "outputs": [],
   "source": []
  }
 ],
 "metadata": {
  "kernelspec": {
   "display_name": "Python 3 (ipykernel)",
   "language": "python",
   "name": "python3"
  },
  "language_info": {
   "codemirror_mode": {
    "name": "ipython",
    "version": 3
   },
   "file_extension": ".py",
   "mimetype": "text/x-python",
   "name": "python",
   "nbconvert_exporter": "python",
   "pygments_lexer": "ipython3",
   "version": "3.11.1"
  },
  "toc": {
   "base_numbering": 1,
   "nav_menu": {},
   "number_sections": true,
   "sideBar": true,
   "skip_h1_title": false,
   "title_cell": "Table of Contents",
   "title_sidebar": "Contents",
   "toc_cell": false,
   "toc_position": {},
   "toc_section_display": true,
   "toc_window_display": false
  },
  "varInspector": {
   "cols": {
    "lenName": 16,
    "lenType": 16,
    "lenVar": 40
   },
   "kernels_config": {
    "python": {
     "delete_cmd_postfix": "",
     "delete_cmd_prefix": "del ",
     "library": "var_list.py",
     "varRefreshCmd": "print(var_dic_list())"
    },
    "r": {
     "delete_cmd_postfix": ") ",
     "delete_cmd_prefix": "rm(",
     "library": "var_list.r",
     "varRefreshCmd": "cat(var_dic_list()) "
    }
   },
   "types_to_exclude": [
    "module",
    "function",
    "builtin_function_or_method",
    "instance",
    "_Feature"
   ],
   "window_display": false
  }
 },
 "nbformat": 4,
 "nbformat_minor": 5
}

{
 "cells": [
  {
   "cell_type": "markdown",
   "id": "21497db8",
   "metadata": {},
   "source": [
    "### sklearn.metrics.roc_curve\n",
    "\n",
    "* sklearn.metrics.roc_curve(_y_true_,  _y_score_,  _*_,  _pos_label=None_,  _sample_weight=None_,  _drop_intermediate=True_)[[source]](https://github.com/scikit-learn/scikit-learn/blob/f3f51f9b6/sklearn/metrics/_ranking.py#L892)[](https://scikit-learn.org/1.1/modules/generated/sklearn.metrics.roc_curve.html?highlight=roc_cur#sklearn.metrics.roc_curve \"Permalink to this definition\")\n",
    "\n",
    "Parameters:\n",
    "\n",
    "**y_true**ndarray of shape (n_samples,)\n",
    "\n",
    "True binary labels. If labels are not either {-1, 1} or {0, 1}, then pos_label should be explicitly given.\n",
    "\n",
    "**y_score**ndarray of shape (n_samples,)\n",
    "\n",
    "Target scores, can either be probability estimates of the positive class, confidence values, or non-thresholded measure of decisions (as returned by “decision_function” on some classifiers).\n",
    "\n",
    "**pos_label**int or str, default=None\n",
    "\n",
    "The label of the positive class. When  `pos_label=None`, if  `y_true`  is in {-1, 1} or {0, 1},  `pos_label`  is set to 1, otherwise an error will be raised.\n",
    "\n",
    "**sample_weight**array-like of shape (n_samples,), default=None\n",
    "\n",
    "Sample weights.\n",
    "\n",
    "**drop_intermediate**bool, default=True\n",
    "\n",
    "Whether to drop some suboptimal thresholds which would not appear on a plotted ROC curve. This is useful in order to create lighter ROC curves.\n",
    "\n",
    "New in version 0.17: parameter  _drop_intermediate_.\n",
    "\n",
    "\n",
    "\n",
    "Returns:\n",
    "\n",
    "**fpr**ndarray of shape (>2,)\n",
    "\n",
    "Increasing false positive rates such that element i is the false positive rate of predictions with score >=  `thresholds[i]`.\n",
    "\n",
    "**tpr**ndarray of shape (>2,)\n",
    "\n",
    "Increasing true positive rates such that element  `i`  is the true positive rate of predictions with score >=  `thresholds[i]`.\n",
    "\n",
    "**thresholds**ndarray of shape = (n_thresholds,)\n",
    "\n",
    "Decreasing thresholds on the decision function used to compute fpr and tpr.  `thresholds[0]`  represents no instances being predicted and is arbitrarily set to  `max(y_score)  +  1`.\n"
   ]
  },
  {
   "cell_type": "code",
   "execution_count": 1,
   "id": "7e3ae279",
   "metadata": {
    "ExecuteTime": {
     "end_time": "2023-01-31T09:33:30.315153Z",
     "start_time": "2023-01-31T09:33:28.669430Z"
    }
   },
   "outputs": [],
   "source": [
    "import numpy as np\n",
    "import pandas as pd\n",
    "from sklearn.preprocessing import LabelEncoder\n",
    "\n",
    "# 결측치 제거\n",
    "def fillna(df):\n",
    "    df[\"Age\"].fillna(df[\"Age\"].mean(),inplace=True)\n",
    "    df[\"Cabin\"].fillna(\"N\", inplace = True)\n",
    "    df[\"Embarked\"].fillna(\"N\", inplace=True)\n",
    "    df[\"Fare\"].fillna(\"S\", inplace=True)\n",
    "    return df\n",
    "\n",
    "# 속성 정리\n",
    "def drop_features(df):\n",
    "    df.drop([\"PassengerId\", \"Pclass\", \"Name\", \"SibSp\", \"Parch\", \"Ticket\", \"Fare\" ], axis = 1, inplace = True)\n",
    "    return df\n",
    "\n",
    "# 레이블 인코딩\n",
    "def format_featueres(df):\n",
    "    df[\"Cabin\"] = df[\"Cabin\"].str[:1]\n",
    "    features = [\"Cabin\", \"Sex\", \"Embarked\"]\n",
    "    for features in features:\n",
    "        le = LabelEncoder()\n",
    "        df[features] = le.fit_transform(df[features])\n",
    "    return df\n",
    "\n",
    "# 위의 함수 합치기\n",
    "def transform_features(df):\n",
    "    df = fillna(df)\n",
    "    df = drop_features(df)\n",
    "    df = format_featueres(df)\n",
    "    return df"
   ]
  },
  {
   "cell_type": "code",
   "execution_count": 2,
   "id": "d59de778",
   "metadata": {
    "ExecuteTime": {
     "end_time": "2023-01-31T09:33:30.351863Z",
     "start_time": "2023-01-31T09:33:30.319147Z"
    }
   },
   "outputs": [],
   "source": [
    "titanic_train = pd.read_csv(\"./datasets/titanic_train.csv\")\n",
    "titanic_test = pd.read_csv(\"./datasets/titanic_test.csv\")\n",
    "\n",
    "titanic_train_trans = transform_features(titanic_train)\n",
    "titanic_test_trans = transform_features(titanic_test)\n",
    "\n",
    "label = titanic_train_trans[\"Survived\"]\n",
    "feature = titanic_train_trans.drop(columns= \"Survived\")"
   ]
  },
  {
   "cell_type": "code",
   "execution_count": 3,
   "id": "061e0985",
   "metadata": {
    "ExecuteTime": {
     "end_time": "2023-01-31T09:33:30.492371Z",
     "start_time": "2023-01-31T09:33:30.354858Z"
    }
   },
   "outputs": [],
   "source": [
    "from sklearn.linear_model import LogisticRegression\n",
    "\n",
    "lr_clf= LogisticRegression()\n",
    "lr_clf.fit(feature, label)\n",
    "lr_pred = lr_clf.predict(titanic_test_trans)"
   ]
  },
  {
   "cell_type": "code",
   "execution_count": 4,
   "id": "61f31605",
   "metadata": {
    "ExecuteTime": {
     "end_time": "2023-01-31T09:33:30.506209Z",
     "start_time": "2023-01-31T09:33:30.496707Z"
    }
   },
   "outputs": [],
   "source": [
    "y_test = pd.read_csv(\"./datasets/gender_submission.csv\")\n",
    "y_test = y_test[\"Survived\"]"
   ]
  },
  {
   "cell_type": "code",
   "execution_count": 5,
   "id": "c5dacbcf",
   "metadata": {
    "ExecuteTime": {
     "end_time": "2023-01-31T09:33:30.517276Z",
     "start_time": "2023-01-31T09:33:30.508208Z"
    }
   },
   "outputs": [],
   "source": [
    "from sklearn.metrics import f1_score, accuracy_score, precision_score, recall_score,confusion_matrix\n",
    "\n",
    "def get_clf_eva(y_test, pred):\n",
    "    confusion = confusion_matrix(y_test, pred)\n",
    "    precision = precision_score(y_test, pred)\n",
    "    recall = recall_score(y_test,pred)\n",
    "    f1 = f1_score(y_test,pred)\n",
    "    \n",
    "threshold = [0.4, 0.45, 0.50, 0.55, 0.60]\n",
    "pred_proba = lr_clf.predict_proba(titanic_test_trans)   "
   ]
  },
  {
   "cell_type": "code",
   "execution_count": 6,
   "id": "36869549",
   "metadata": {
    "ExecuteTime": {
     "end_time": "2023-01-31T09:33:30.532250Z",
     "start_time": "2023-01-31T09:33:30.520270Z"
    }
   },
   "outputs": [],
   "source": [
    "get_clf_eva(y_test,lr_pred)"
   ]
  },
  {
   "cell_type": "code",
   "execution_count": 7,
   "id": "8be0a232",
   "metadata": {
    "ExecuteTime": {
     "end_time": "2023-01-31T09:33:30.543367Z",
     "start_time": "2023-01-31T09:33:30.534720Z"
    }
   },
   "outputs": [],
   "source": [
    "from sklearn.metrics import roc_curve\n",
    "from sklearn.metrics import precision_recall_curve\n",
    "\n",
    "pred_proba_class = lr_clf.predict_proba(titanic_test_trans)[:,1]\n",
    "fpr, tpr, threshold = roc_curve(y_test, pred_proba_class)"
   ]
  },
  {
   "cell_type": "code",
   "execution_count": 8,
   "id": "3630a503",
   "metadata": {
    "ExecuteTime": {
     "end_time": "2023-01-31T09:33:31.068373Z",
     "start_time": "2023-01-31T09:33:30.546374Z"
    }
   },
   "outputs": [],
   "source": [
    "import matplotlib.pyplot as plt\n",
    "import numpy as np\n",
    "\n",
    "def roc_curve_plot (y_test, pred_proba_c1):\n",
    "    \n",
    "    # 임계값에 따른 fpr tpr값 반환\n",
    "    fpr, tpr, threshold = roc_curve(y_test, pred_proba_c1)\n",
    "    # roc를 플롯곡선으로 그림 \n",
    "    plt.plot(fpr, tpr , label = \"ROC\")\n",
    "    # 가운데 대각선 직선을 그림\n",
    "    plt.plot([0,1], [0,1], \"k--\", label = \"RANDOM\")\n",
    "\n",
    "    # fpr x축의 scale을 0.1 단위로 변경 + x축 y축 설명 \n",
    "    start, end = plt.xlim()\n",
    "    plt.xticks(np.round(np.arange(start, end,0.1),2))\n",
    "    plt.xlim(0,1);plt.ylim(0,1)\n",
    "    plt.xlabel(\"FPR(1 - sensitivity)\");plt.ylabel(\"TPR(recall)\")\n",
    "    plt.legend()\n",
    "    plt.show()\n",
    "    \n"
   ]
  },
  {
   "cell_type": "code",
   "execution_count": 9,
   "id": "2fcddba3",
   "metadata": {
    "ExecuteTime": {
     "end_time": "2023-01-31T09:33:31.296094Z",
     "start_time": "2023-01-31T09:33:31.071367Z"
    }
   },
   "outputs": [
    {
     "data": {
      "image/png": "[encoded data removed]",
      "text/plain": [
       "<Figure size 640x480 with 1 Axes>"
      ]
     },
     "metadata": {},
     "output_type": "display_data"
    }
   ],
   "source": [
    "roc_curve_plot(y_test, lr_clf.predict_proba(titanic_test_trans)[:,1])    "
   ]
  },
  {
   "cell_type": "code",
   "execution_count": 10,
   "id": "cf978092",
   "metadata": {
    "ExecuteTime": {
     "end_time": "2023-01-31T09:33:31.318719Z",
     "start_time": "2023-01-31T09:33:31.301048Z"
    }
   },
   "outputs": [
    {
     "name": "stdout",
     "output_type": "stream",
     "text": [
      "0.9958943411159479\n"
     ]
    }
   ],
   "source": [
    "from sklearn.metrics import roc_auc_score\n",
    "\n",
    "pred_proba = lr_clf.predict_proba(titanic_test_trans)[:,1]\n",
    "roc_score = roc_auc_score(y_test, pred_proba)\n",
    "print(roc_score)"
   ]
  },
  {
   "cell_type": "code",
   "execution_count": null,
   "id": "d39a3978",
   "metadata": {},
   "outputs": [],
   "source": []
  }
 ],
 "metadata": {
  "kernelspec": {
   "display_name": "Python 3 (ipykernel)",
   "language": "python",
   "name": "python3"
  },
  "language_info": {
   "codemirror_mode": {
    "name": "ipython",
    "version": 3
   },
   "file_extension": ".py",
   "mimetype": "text/x-python",
   "name": "python",
   "nbconvert_exporter": "python",
   "pygments_lexer": "ipython3",
   "version": "3.11.1"
  },
  "toc": {
   "base_numbering": 1,
   "nav_menu": {},
   "number_sections": true,
   "sideBar": true,
   "skip_h1_title": false,
   "title_cell": "Table of Contents",
   "title_sidebar": "Contents",
   "toc_cell": false,
   "toc_position": {},
   "toc_section_display": true,
   "toc_window_display": false
  },
  "varInspector": {
   "cols": {
    "lenName": 16,
    "lenType": 16,
    "lenVar": 40
   },
   "kernels_config": {
    "python": {
     "delete_cmd_postfix": "",
     "delete_cmd_prefix": "del ",
     "library": "var_list.py",
     "varRefreshCmd": "print(var_dic_list())"
    },
    "r": {
     "delete_cmd_postfix": ") ",
     "delete_cmd_prefix": "rm(",
     "library": "var_list.r",
     "varRefreshCmd": "cat(var_dic_list()) "
    }
   },
   "types_to_exclude": [
    "module",
    "function",
    "builtin_function_or_method",
    "instance",
    "_Feature"
   ],
   "window_display": false
  }
 },
 "nbformat": 4,
 "nbformat_minor": 5
}
